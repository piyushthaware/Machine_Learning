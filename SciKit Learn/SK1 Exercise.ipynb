{
 "cells": [
  {
   "cell_type": "markdown",
   "id": "bd6c5b02",
   "metadata": {},
   "source": [
    "## SK1 Exercise"
   ]
  },
  {
   "cell_type": "markdown",
   "id": "6141e28b",
   "metadata": {},
   "source": [
    "## Exercise 0: Modeling Preparation\n",
    "- Read the clean data, which is named as df_clean_income_data.csv.\n",
    "- Randomly sample 5000 rows as it's too big for a short demo (using a random seed of 999).\n",
    "- Split the sampled data as 70% training set and the remaining 30% test set using a random seed of 999.\n",
    "- Remember to separate target during the splitting process.\n",
    "- Side question: Why do we need to set a random seed?"
   ]
  },
  {
   "cell_type": "code",
   "execution_count": 1,
   "id": "56282ed2",
   "metadata": {},
   "outputs": [],
   "source": [
    "import pandas as pd"
   ]
  },
  {
   "cell_type": "code",
   "execution_count": 2,
   "id": "5c167deb",
   "metadata": {},
   "outputs": [
    {
     "name": "stdout",
     "output_type": "stream",
     "text": [
      "(45222, 42)\n"
     ]
    }
   ],
   "source": [
    "df_clean_income_data = pd.read_csv('data/df_clean_income_data.csv')\n",
    "print(df_clean_income_data.shape)"
   ]
  },
  {
   "cell_type": "code",
   "execution_count": 3,
   "id": "3768d647",
   "metadata": {},
   "outputs": [
    {
     "name": "stdout",
     "output_type": "stream",
     "text": [
      "(5000, 42)\n"
     ]
    },
    {
     "data": {
      "text/html": [
       "<div>\n",
       "<style scoped>\n",
       "    .dataframe tbody tr th:only-of-type {\n",
       "        vertical-align: middle;\n",
       "    }\n",
       "\n",
       "    .dataframe tbody tr th {\n",
       "        vertical-align: top;\n",
       "    }\n",
       "\n",
       "    .dataframe thead th {\n",
       "        text-align: right;\n",
       "    }\n",
       "</style>\n",
       "<table border=\"1\" class=\"dataframe\">\n",
       "  <thead>\n",
       "    <tr style=\"text-align: right;\">\n",
       "      <th></th>\n",
       "      <th>age</th>\n",
       "      <th>education-num</th>\n",
       "      <th>race</th>\n",
       "      <th>sex</th>\n",
       "      <th>hours-per-week</th>\n",
       "      <th>native-country</th>\n",
       "      <th>capital</th>\n",
       "      <th>workclass_Federal-gov</th>\n",
       "      <th>workclass_Local-gov</th>\n",
       "      <th>workclass_Private</th>\n",
       "      <th>...</th>\n",
       "      <th>occupation_Sales</th>\n",
       "      <th>occupation_Tech-support</th>\n",
       "      <th>occupation_Transport-moving</th>\n",
       "      <th>relationship_Husband</th>\n",
       "      <th>relationship_Not-in-family</th>\n",
       "      <th>relationship_Other-relative</th>\n",
       "      <th>relationship_Own-child</th>\n",
       "      <th>relationship_Unmarried</th>\n",
       "      <th>relationship_Wife</th>\n",
       "      <th>target</th>\n",
       "    </tr>\n",
       "  </thead>\n",
       "  <tbody>\n",
       "    <tr>\n",
       "      <th>29270</th>\n",
       "      <td>0.315068</td>\n",
       "      <td>0.600000</td>\n",
       "      <td>1.0</td>\n",
       "      <td>0.0</td>\n",
       "      <td>0.397959</td>\n",
       "      <td>1.0</td>\n",
       "      <td>0.041742</td>\n",
       "      <td>0.0</td>\n",
       "      <td>0.0</td>\n",
       "      <td>1.0</td>\n",
       "      <td>...</td>\n",
       "      <td>0.0</td>\n",
       "      <td>0.0</td>\n",
       "      <td>0.0</td>\n",
       "      <td>0.0</td>\n",
       "      <td>0.0</td>\n",
       "      <td>0.0</td>\n",
       "      <td>0.0</td>\n",
       "      <td>1.0</td>\n",
       "      <td>0.0</td>\n",
       "      <td>0</td>\n",
       "    </tr>\n",
       "    <tr>\n",
       "      <th>25610</th>\n",
       "      <td>0.095890</td>\n",
       "      <td>0.800000</td>\n",
       "      <td>1.0</td>\n",
       "      <td>0.0</td>\n",
       "      <td>0.193878</td>\n",
       "      <td>1.0</td>\n",
       "      <td>0.041742</td>\n",
       "      <td>0.0</td>\n",
       "      <td>0.0</td>\n",
       "      <td>0.0</td>\n",
       "      <td>...</td>\n",
       "      <td>0.0</td>\n",
       "      <td>0.0</td>\n",
       "      <td>0.0</td>\n",
       "      <td>0.0</td>\n",
       "      <td>1.0</td>\n",
       "      <td>0.0</td>\n",
       "      <td>0.0</td>\n",
       "      <td>0.0</td>\n",
       "      <td>0.0</td>\n",
       "      <td>0</td>\n",
       "    </tr>\n",
       "    <tr>\n",
       "      <th>19125</th>\n",
       "      <td>0.287671</td>\n",
       "      <td>0.533333</td>\n",
       "      <td>1.0</td>\n",
       "      <td>1.0</td>\n",
       "      <td>0.397959</td>\n",
       "      <td>1.0</td>\n",
       "      <td>0.041742</td>\n",
       "      <td>0.0</td>\n",
       "      <td>0.0</td>\n",
       "      <td>0.0</td>\n",
       "      <td>...</td>\n",
       "      <td>0.0</td>\n",
       "      <td>0.0</td>\n",
       "      <td>0.0</td>\n",
       "      <td>1.0</td>\n",
       "      <td>0.0</td>\n",
       "      <td>0.0</td>\n",
       "      <td>0.0</td>\n",
       "      <td>0.0</td>\n",
       "      <td>0.0</td>\n",
       "      <td>1</td>\n",
       "    </tr>\n",
       "    <tr>\n",
       "      <th>43423</th>\n",
       "      <td>0.356164</td>\n",
       "      <td>0.533333</td>\n",
       "      <td>1.0</td>\n",
       "      <td>0.0</td>\n",
       "      <td>0.142857</td>\n",
       "      <td>1.0</td>\n",
       "      <td>0.041742</td>\n",
       "      <td>0.0</td>\n",
       "      <td>0.0</td>\n",
       "      <td>0.0</td>\n",
       "      <td>...</td>\n",
       "      <td>0.0</td>\n",
       "      <td>0.0</td>\n",
       "      <td>0.0</td>\n",
       "      <td>0.0</td>\n",
       "      <td>0.0</td>\n",
       "      <td>0.0</td>\n",
       "      <td>0.0</td>\n",
       "      <td>0.0</td>\n",
       "      <td>1.0</td>\n",
       "      <td>0</td>\n",
       "    </tr>\n",
       "    <tr>\n",
       "      <th>14464</th>\n",
       "      <td>0.273973</td>\n",
       "      <td>0.933333</td>\n",
       "      <td>1.0</td>\n",
       "      <td>1.0</td>\n",
       "      <td>0.602041</td>\n",
       "      <td>1.0</td>\n",
       "      <td>0.041742</td>\n",
       "      <td>0.0</td>\n",
       "      <td>1.0</td>\n",
       "      <td>0.0</td>\n",
       "      <td>...</td>\n",
       "      <td>0.0</td>\n",
       "      <td>0.0</td>\n",
       "      <td>0.0</td>\n",
       "      <td>1.0</td>\n",
       "      <td>0.0</td>\n",
       "      <td>0.0</td>\n",
       "      <td>0.0</td>\n",
       "      <td>0.0</td>\n",
       "      <td>0.0</td>\n",
       "      <td>1</td>\n",
       "    </tr>\n",
       "  </tbody>\n",
       "</table>\n",
       "<p>5 rows × 42 columns</p>\n",
       "</div>"
      ],
      "text/plain": [
       "            age  education-num  race  sex  hours-per-week  native-country  \\\n",
       "29270  0.315068       0.600000   1.0  0.0        0.397959             1.0   \n",
       "25610  0.095890       0.800000   1.0  0.0        0.193878             1.0   \n",
       "19125  0.287671       0.533333   1.0  1.0        0.397959             1.0   \n",
       "43423  0.356164       0.533333   1.0  0.0        0.142857             1.0   \n",
       "14464  0.273973       0.933333   1.0  1.0        0.602041             1.0   \n",
       "\n",
       "        capital  workclass_Federal-gov  workclass_Local-gov  \\\n",
       "29270  0.041742                    0.0                  0.0   \n",
       "25610  0.041742                    0.0                  0.0   \n",
       "19125  0.041742                    0.0                  0.0   \n",
       "43423  0.041742                    0.0                  0.0   \n",
       "14464  0.041742                    0.0                  1.0   \n",
       "\n",
       "       workclass_Private  ...  occupation_Sales  occupation_Tech-support  \\\n",
       "29270                1.0  ...               0.0                      0.0   \n",
       "25610                0.0  ...               0.0                      0.0   \n",
       "19125                0.0  ...               0.0                      0.0   \n",
       "43423                0.0  ...               0.0                      0.0   \n",
       "14464                0.0  ...               0.0                      0.0   \n",
       "\n",
       "       occupation_Transport-moving  relationship_Husband  \\\n",
       "29270                          0.0                   0.0   \n",
       "25610                          0.0                   0.0   \n",
       "19125                          0.0                   1.0   \n",
       "43423                          0.0                   0.0   \n",
       "14464                          0.0                   1.0   \n",
       "\n",
       "       relationship_Not-in-family  relationship_Other-relative  \\\n",
       "29270                         0.0                          0.0   \n",
       "25610                         1.0                          0.0   \n",
       "19125                         0.0                          0.0   \n",
       "43423                         0.0                          0.0   \n",
       "14464                         0.0                          0.0   \n",
       "\n",
       "       relationship_Own-child  relationship_Unmarried  relationship_Wife  \\\n",
       "29270                     0.0                     1.0                0.0   \n",
       "25610                     0.0                     0.0                0.0   \n",
       "19125                     0.0                     0.0                0.0   \n",
       "43423                     0.0                     0.0                1.0   \n",
       "14464                     0.0                     0.0                0.0   \n",
       "\n",
       "       target  \n",
       "29270       0  \n",
       "25610       0  \n",
       "19125       1  \n",
       "43423       0  \n",
       "14464       1  \n",
       "\n",
       "[5 rows x 42 columns]"
      ]
     },
     "execution_count": 3,
     "metadata": {},
     "output_type": "execute_result"
    }
   ],
   "source": [
    "df = df_clean_income_data.sample(n=5000, random_state=999)\n",
    "print(df.shape)\n",
    "df.head()"
   ]
  },
  {
   "cell_type": "code",
   "execution_count": 4,
   "id": "c421590e",
   "metadata": {},
   "outputs": [
    {
     "name": "stdout",
     "output_type": "stream",
     "text": [
      "(5000,)\n",
      "(5000, 41)\n"
     ]
    }
   ],
   "source": [
    "target = df['target']\n",
    "Data = df.drop(columns='target')\n",
    "print(target.shape)\n",
    "print(Data.shape)"
   ]
  },
  {
   "cell_type": "code",
   "execution_count": 5,
   "id": "4be7f261",
   "metadata": {},
   "outputs": [],
   "source": [
    "from sklearn.model_selection import train_test_split\n",
    "\n",
    "D_train, D_test, t_train, t_test = train_test_split(Data,target,test_size=0.3,random_state=999)"
   ]
  },
  {
   "cell_type": "code",
   "execution_count": 6,
   "id": "a2645332",
   "metadata": {},
   "outputs": [
    {
     "name": "stdout",
     "output_type": "stream",
     "text": [
      "(3500, 41)\n",
      "(1500, 41)\n",
      "(3500,)\n",
      "(1500,)\n"
     ]
    }
   ],
   "source": [
    "print(D_train.shape)\n",
    "print(D_test.shape)\n",
    "print(t_train.shape)\n",
    "print(t_test.shape)"
   ]
  },
  {
   "cell_type": "markdown",
   "id": "7dfeba1c",
   "metadata": {},
   "source": [
    "#### Q. Why do we need to set a random seed?\n",
    "\n",
    "So that, whever we re-run our kernel we get the exact same split."
   ]
  },
  {
   "cell_type": "markdown",
   "id": "944eaa76",
   "metadata": {},
   "source": [
    "## Exercise 1\n",
    "Verify whether training and test sets have similar proportion of target labels. Why is this step important?\n"
   ]
  },
  {
   "cell_type": "code",
   "execution_count": 7,
   "id": "1c3a7d36",
   "metadata": {},
   "outputs": [
    {
     "data": {
      "text/plain": [
       "0.2577142857142834"
      ]
     },
     "execution_count": 7,
     "metadata": {},
     "output_type": "execute_result"
    }
   ],
   "source": [
    "sum(t_train/len(t_train))"
   ]
  },
  {
   "cell_type": "code",
   "execution_count": 8,
   "id": "69fc0164",
   "metadata": {},
   "outputs": [
    {
     "data": {
      "text/plain": [
       "0.25000000000000155"
      ]
     },
     "execution_count": 8,
     "metadata": {},
     "output_type": "execute_result"
    }
   ],
   "source": [
    "sum(t_test/len(t_test))"
   ]
  },
  {
   "cell_type": "markdown",
   "id": "6d4c5e31",
   "metadata": {},
   "source": [
    "## Exercise 2\n",
    "Fit a nearest neighbor (NN) classifier with  $k=5$  neighbors using the Euclidean distance.\n",
    "Fit the model on the train data and evaluate its performance on the test data using accuracy."
   ]
  },
  {
   "cell_type": "code",
   "execution_count": 9,
   "id": "17871039",
   "metadata": {},
   "outputs": [
    {
     "data": {
      "text/plain": [
       "0.814"
      ]
     },
     "execution_count": 9,
     "metadata": {},
     "output_type": "execute_result"
    }
   ],
   "source": [
    "from sklearn.neighbors import KNeighborsClassifier\n",
    "\n",
    "knn = KNeighborsClassifier(n_neighbors=5,p=2) #p=1 is Manhattan and p=2 is Euclidean distance\n",
    "knn.fit(D_train,t_train)\n",
    "knn.score(D_test,t_test)"
   ]
  },
  {
   "cell_type": "markdown",
   "id": "b5829477",
   "metadata": {},
   "source": [
    "## Exercise 3\n",
    "- Extend Question 1 by fitting  k=1,3,5,10,15,20  neighbors using the Manhattan and Euclidean distances respectively.\n",
    "- What is the optimal  k  value for each distance metric? That is, at which  k , the NN classifier returns the highest accuracy score? Note: We will learn later how to perform \"grid search\" to determine the optimal  k .\n",
    "- Which distance metric seems to be better?"
   ]
  },
  {
   "cell_type": "code",
   "execution_count": 10,
   "id": "ac019452",
   "metadata": {},
   "outputs": [],
   "source": [
    "k_list = ([1,3,5,10,15,20])\n",
    "\n",
    "knn_score_man=[]\n",
    "knn_score_euc=[]\n",
    "\n",
    "for k in k_list:\n",
    "    knn_classifier_man = KNeighborsClassifier(n_neighbors=k, p=1)\n",
    "    knn_classifier_man = knn_classifier_man.fit(D_train,t_train)\n",
    "    knn_score_man = knn_score_man + [knn_classifier_man.score(D_test,t_test)]\n",
    "    \n",
    "    knn_classifier_euc = KNeighborsClassifier(n_neighbors=k, p=2)\n",
    "    knn_classifier_euc.fit(D_train,t_train)\n",
    "    knn_score_euc = knn_score_euc + [knn_classifier_euc.score(D_test,t_test)]"
   ]
  },
  {
   "cell_type": "code",
   "execution_count": 11,
   "id": "6d4849e9",
   "metadata": {},
   "outputs": [],
   "source": [
    "results = pd.DataFrame({'Score_man': knn_score_man, 'Score_euc':knn_score_euc},\n",
    "                      index = k_list)"
   ]
  },
  {
   "cell_type": "code",
   "execution_count": 12,
   "id": "a8fe0fdb",
   "metadata": {},
   "outputs": [
    {
     "data": {
      "text/html": [
       "<div>\n",
       "<style scoped>\n",
       "    .dataframe tbody tr th:only-of-type {\n",
       "        vertical-align: middle;\n",
       "    }\n",
       "\n",
       "    .dataframe tbody tr th {\n",
       "        vertical-align: top;\n",
       "    }\n",
       "\n",
       "    .dataframe thead th {\n",
       "        text-align: right;\n",
       "    }\n",
       "</style>\n",
       "<table border=\"1\" class=\"dataframe\">\n",
       "  <thead>\n",
       "    <tr style=\"text-align: right;\">\n",
       "      <th></th>\n",
       "      <th>Score_man</th>\n",
       "      <th>Score_euc</th>\n",
       "    </tr>\n",
       "  </thead>\n",
       "  <tbody>\n",
       "    <tr>\n",
       "      <th>1</th>\n",
       "      <td>0.778667</td>\n",
       "      <td>0.778667</td>\n",
       "    </tr>\n",
       "    <tr>\n",
       "      <th>3</th>\n",
       "      <td>0.812000</td>\n",
       "      <td>0.804667</td>\n",
       "    </tr>\n",
       "    <tr>\n",
       "      <th>5</th>\n",
       "      <td>0.808000</td>\n",
       "      <td>0.814000</td>\n",
       "    </tr>\n",
       "    <tr>\n",
       "      <th>10</th>\n",
       "      <td>0.822667</td>\n",
       "      <td>0.824667</td>\n",
       "    </tr>\n",
       "    <tr>\n",
       "      <th>15</th>\n",
       "      <td>0.818667</td>\n",
       "      <td>0.820000</td>\n",
       "    </tr>\n",
       "    <tr>\n",
       "      <th>20</th>\n",
       "      <td>0.822000</td>\n",
       "      <td>0.822667</td>\n",
       "    </tr>\n",
       "  </tbody>\n",
       "</table>\n",
       "</div>"
      ],
      "text/plain": [
       "    Score_man  Score_euc\n",
       "1    0.778667   0.778667\n",
       "3    0.812000   0.804667\n",
       "5    0.808000   0.814000\n",
       "10   0.822667   0.824667\n",
       "15   0.818667   0.820000\n",
       "20   0.822000   0.822667"
      ]
     },
     "execution_count": 12,
     "metadata": {},
     "output_type": "execute_result"
    },
    {
     "data": {
      "image/png": "[encoded data removed]",
      "text/plain": [
       "<Figure size 432x288 with 1 Axes>"
      ]
     },
     "metadata": {
      "needs_background": "light"
     },
     "output_type": "display_data"
    }
   ],
   "source": [
    "import matplotlib.pyplot as plt\n",
    "x=knn_score_man\n",
    "y=knn_score_euc\n",
    "plt.plot(k_list,x, label='Manhattan')\n",
    "plt.plot(k_list,y, label='Euclidean')\n",
    "plt.legend()\n",
    "results"
   ]
  },
  {
   "cell_type": "markdown",
   "id": "b27a7c6a",
   "metadata": {},
   "source": [
    "## Exercise 4\n",
    "- Fit a decision tree classifier with the entropy split criterion and a maximum depth of 5 on the train data, and then evaluate its performance on the test data.\n",
    "- Does it perform better than the \"best\" KNN model from the previous question?"
   ]
  },
  {
   "cell_type": "code",
   "execution_count": 13,
   "id": "5ada0548",
   "metadata": {},
   "outputs": [
    {
     "data": {
      "text/plain": [
       "0.8513333333333334"
      ]
     },
     "execution_count": 13,
     "metadata": {},
     "output_type": "execute_result"
    }
   ],
   "source": [
    "from sklearn.tree import DecisionTreeClassifier\n",
    "\n",
    "dt = DecisionTreeClassifier(criterion='entropy', max_depth=5)\n",
    "dt.fit(D_train,t_train)\n",
    "dt.score(D_test,t_test)"
   ]
  },
  {
   "cell_type": "markdown",
   "id": "47c95440",
   "metadata": {},
   "source": [
    "## Exercise 5\n",
    "- Fit a random forest classifier with n_estimators=100 on train data, and then evaluate its performance on the test data.\n",
    "- Does it perform better than the decision tree model in the previous question?"
   ]
  },
  {
   "cell_type": "code",
   "execution_count": 14,
   "id": "055c17cf",
   "metadata": {},
   "outputs": [
    {
     "data": {
      "text/plain": [
       "0.8406666666666667"
      ]
     },
     "execution_count": 14,
     "metadata": {},
     "output_type": "execute_result"
    }
   ],
   "source": [
    "from sklearn.ensemble import RandomForestClassifier\n",
    "\n",
    "rfc = RandomForestClassifier(n_estimators=100)\n",
    "rfc.fit(D_train,t_train)\n",
    "rfc.score(D_test,t_test)"
   ]
  },
  {
   "cell_type": "markdown",
   "id": "2ca66079",
   "metadata": {},
   "source": [
    "## Exercise 6\n",
    "- Fit a random forest classifier with n_estimators=250 on train data, and then evaluate its performance on the test data. \n",
    "- Does it return a higher accuracy compared to n_estimators=100?"
   ]
  },
  {
   "cell_type": "code",
   "execution_count": 15,
   "id": "32b90cd2",
   "metadata": {},
   "outputs": [
    {
     "data": {
      "text/plain": [
       "0.84"
      ]
     },
     "execution_count": 15,
     "metadata": {},
     "output_type": "execute_result"
    }
   ],
   "source": [
    "rfc = RandomForestClassifier(n_estimators=250)\n",
    "rfc.fit(D_train,t_train)\n",
    "rfc.score(D_test,t_test)"
   ]
  },
  {
   "cell_type": "markdown",
   "id": "5eef0adc",
   "metadata": {},
   "source": [
    "## Exercise 7\n",
    "- Fit to a Gaussian naive Bayes classifier with a variance smoothing value of  $10^−2$"
   ]
  },
  {
   "cell_type": "code",
   "execution_count": 16,
   "id": "97784686",
   "metadata": {},
   "outputs": [
    {
     "data": {
      "text/plain": [
       "0.7806666666666666"
      ]
     },
     "execution_count": 16,
     "metadata": {},
     "output_type": "execute_result"
    }
   ],
   "source": [
    "from sklearn.naive_bayes import GaussianNB\n",
    "\n",
    "gnb = GaussianNB(var_smoothing=10**(-2))\n",
    "gnb.fit(D_train,t_train)\n",
    "gnb.score(D_test,t_test)"
   ]
  },
  {
   "cell_type": "markdown",
   "id": "4808c082",
   "metadata": {},
   "source": [
    "## Exercise 8\n",
    "Fit to a support vector machine with default values."
   ]
  },
  {
   "cell_type": "code",
   "execution_count": 17,
   "id": "e7ddf17b",
   "metadata": {},
   "outputs": [
    {
     "data": {
      "text/plain": [
       "0.8193333333333334"
      ]
     },
     "execution_count": 17,
     "metadata": {},
     "output_type": "execute_result"
    }
   ],
   "source": [
    "from sklearn.svm import SVC\n",
    "\n",
    "svm_class = SVC()\n",
    "svm_class.fit(D_train,t_train)\n",
    "svm_class.score(D_test,t_test)"
   ]
  },
  {
   "cell_type": "markdown",
   "id": "dc63e900",
   "metadata": {},
   "source": [
    "## Exercise 9\n",
    "Predict the first three observations of the full cleaned data using the support vector machine built in the previous question."
   ]
  },
  {
   "cell_type": "code",
   "execution_count": 18,
   "id": "470bbf8a",
   "metadata": {},
   "outputs": [
    {
     "data": {
      "text/plain": [
       "array([0, 0, 0, 0, 1], dtype=int64)"
      ]
     },
     "execution_count": 18,
     "metadata": {},
     "output_type": "execute_result"
    }
   ],
   "source": [
    "new_obs = Data[0:5]\n",
    "svm_class.predict(new_obs)"
   ]
  },
  {
   "cell_type": "markdown",
   "id": "93d79608",
   "metadata": {},
   "source": [
    "#### Lets see how other models are predicting:"
   ]
  },
  {
   "cell_type": "code",
   "execution_count": 19,
   "id": "1025744c",
   "metadata": {},
   "outputs": [
    {
     "name": "stdout",
     "output_type": "stream",
     "text": [
      "Actual target values:  0 0 1 0 1\n",
      "Support Vector Machine:  [0 0 0 0 1]\n",
      "GaussianNB:  [0 0 0 1 1]\n",
      "Random Forest:  [0 0 1 0 1]\n",
      "deciontree:  [0 0 0 0 1]\n",
      "knn:  [0 0 0 0 1]\n"
     ]
    }
   ],
   "source": [
    "print('Actual target values: ',*target[0:5])\n",
    "print('Support Vector Machine: ', svm_class.predict(new_obs))\n",
    "print('GaussianNB: ', gnb.predict(new_obs))\n",
    "print('Random Forest: ',rfc.predict(new_obs))\n",
    "print('deciontree: ',dt.predict(new_obs))\n",
    "print('knn: ',knn.predict(new_obs))"
   ]
  },
  {
   "cell_type": "markdown",
   "id": "1a18b2a0",
   "metadata": {},
   "source": [
    "## Exercise 10\n",
    "Use `Pandas` to create a `confusion matrix` for the SVM model.<br>\n",
    "**Hint:** Use pd.crosstab().<br>"
   ]
  },
  {
   "cell_type": "code",
   "execution_count": 20,
   "id": "57c17e3d",
   "metadata": {},
   "outputs": [],
   "source": [
    "predictions = svm_class.predict(D_test)"
   ]
  },
  {
   "cell_type": "code",
   "execution_count": 21,
   "id": "4788ba6c",
   "metadata": {},
   "outputs": [
    {
     "data": {
      "text/html": [
       "<div>\n",
       "<style scoped>\n",
       "    .dataframe tbody tr th:only-of-type {\n",
       "        vertical-align: middle;\n",
       "    }\n",
       "\n",
       "    .dataframe tbody tr th {\n",
       "        vertical-align: top;\n",
       "    }\n",
       "\n",
       "    .dataframe thead th {\n",
       "        text-align: right;\n",
       "    }\n",
       "</style>\n",
       "<table border=\"1\" class=\"dataframe\">\n",
       "  <thead>\n",
       "    <tr style=\"text-align: right;\">\n",
       "      <th>Predicted</th>\n",
       "      <th>0</th>\n",
       "      <th>1</th>\n",
       "      <th>All</th>\n",
       "    </tr>\n",
       "    <tr>\n",
       "      <th>Actual</th>\n",
       "      <th></th>\n",
       "      <th></th>\n",
       "      <th></th>\n",
       "    </tr>\n",
       "  </thead>\n",
       "  <tbody>\n",
       "    <tr>\n",
       "      <th>0</th>\n",
       "      <td>1047</td>\n",
       "      <td>78</td>\n",
       "      <td>1125</td>\n",
       "    </tr>\n",
       "    <tr>\n",
       "      <th>1</th>\n",
       "      <td>193</td>\n",
       "      <td>182</td>\n",
       "      <td>375</td>\n",
       "    </tr>\n",
       "    <tr>\n",
       "      <th>All</th>\n",
       "      <td>1240</td>\n",
       "      <td>260</td>\n",
       "      <td>1500</td>\n",
       "    </tr>\n",
       "  </tbody>\n",
       "</table>\n",
       "</div>"
      ],
      "text/plain": [
       "Predicted     0    1   All\n",
       "Actual                    \n",
       "0          1047   78  1125\n",
       "1           193  182   375\n",
       "All        1240  260  1500"
      ]
     },
     "execution_count": 21,
     "metadata": {},
     "output_type": "execute_result"
    }
   ],
   "source": [
    "confusion_matrix = pd.crosstab(t_test,predictions,\n",
    "                               rownames=['Actual'],colnames=['Predicted'],\n",
    "                              margins=True)\n",
    "\n",
    "confusion_matrix"
   ]
  },
  {
   "cell_type": "markdown",
   "id": "b65fd5a7",
   "metadata": {},
   "source": [
    "## Exercise 11\n",
    "- Which cells in the confusion matrix correspond to TP and TN?\n",
    "- Calculate:\n",
    "    - Accuracy rate\n",
    "    - Error rate\n",
    "    - Precision (across the \"1\" column)\n",
    "    - Recall (across the \"1\" row)"
   ]
  },
  {
   "cell_type": "markdown",
   "id": "c4f01840",
   "metadata": {},
   "source": [
    "In above confusion matrix; cell(0,0) is **TN** and cell(1,1) is **TP**."
   ]
  },
  {
   "cell_type": "code",
   "execution_count": 22,
   "id": "68aef37e",
   "metadata": {},
   "outputs": [],
   "source": [
    "y_test = t_test\n",
    "y_pred = predictions"
   ]
  },
  {
   "cell_type": "code",
   "execution_count": 23,
   "id": "e684f427",
   "metadata": {},
   "outputs": [
    {
     "name": "stdout",
     "output_type": "stream",
     "text": [
      "Accuracy rate:  0.8193333333333334\n",
      "Error rate:  0.18066666666666664\n",
      "Precision:  0.7\n",
      "Recall:  0.48533333333333334\n"
     ]
    }
   ],
   "source": [
    "from sklearn.metrics import precision_score, recall_score, accuracy_score\n",
    "\n",
    "print('Accuracy rate: ',accuracy_score(y_test, y_pred))\n",
    "print('Error rate: ',1-accuracy_score(y_test, y_pred))\n",
    "print('Precision: ',precision_score(y_test, y_pred))\n",
    "print('Recall: ',recall_score(y_test, y_pred))"
   ]
  }
 ],
 "metadata": {
  "kernelspec": {
   "display_name": "Python 3",
   "language": "python",
   "name": "python3"
  },
  "language_info": {
   "codemirror_mode": {
    "name": "ipython",
    "version": 3
   },
   "file_extension": ".py",
   "mimetype": "text/x-python",
   "name": "python",
   "nbconvert_exporter": "python",
   "pygments_lexer": "ipython3",
   "version": "3.8.8"
  }
 },
 "nbformat": 4,
 "nbformat_minor": 5
}
