{
 "cells": [
  {
   "cell_type": "markdown",
   "id": "84998d18",
   "metadata": {},
   "source": [
    "# Scikit-Learn 1\n",
    "## Basic Modeling"
   ]
  },
  {
   "cell_type": "markdown",
   "id": "0a13138c",
   "metadata": {},
   "source": [
    "## Objectives\n",
    "In line with the SK1 Tutorial, the objective of this practice notebook is to familiarize you with working with a regression problem using a `holdout` approach. The dataset under consideration is the `diamonds` dataset that comes with the `ggplot2` library in R.\n",
    "\n",
    "The `diamonds` dataset contains information on diamonds including carat (numeric), clarity (categorical), cut (categorical), and color (categorical). The dataset has 10 features and 53940 instances. The objective is to predict the price of a diamond in USD given its attributes."
   ]
  },
  {
   "cell_type": "markdown",
   "id": "223d0a4e",
   "metadata": {},
   "source": [
    "## Exercise 0: Data Preparation\n",
    "Prepare the dataset for predictive modeling as follows:\n",
    "\n",
    "- Refer to our data prep practice solutions on Canvas as well as our data prep script on GitHib here for some inspiration on preparing this data for predictive modeling.\n",
    "- Set pd.set_option('display.max_columns', None). Read in the raw data, which is named as diamonds.csv on Canvas. Have a look at the shape and data types of the features. Also have a look at the top 5 rows.\n",
    "- Generate descriptive statistics for categorical and numerical features separately.\n",
    "- Have a look at the unique values for each categorical feature and check whether everything is OK in the sense that there are no unusual values.\n",
    "- Make sure there are no missing values anywhere.\n",
    "- Separate the last column from the dataset and set it to \"target\". Make sure \"target\" is a Pandas series at this point, and not a NumPy array (which will be necessary for the sampling below). Set all the other columns to be the \"Data\" data frame, which will be the set of descriptive features.\n",
    "- Make sure all categorical descriptive features are encoded via one-hot-encoding. In this particular dataset, some categorical descriptive features are actually ordinal, but we will go ahead and encode them via one-hot-- encoding for simplicity.\n",
    "- Make sure all descriptive features are scaled via min-max scaling and the output is a Pandas data frame with correct column names. Do NOT scale the target feature!\n",
    "- Finally have a look at the top 5 rows of \"target\" and \"Data\" respectively."
   ]
  },
  {
   "cell_type": "code",
   "execution_count": 1,
   "id": "297bb45c",
   "metadata": {},
   "outputs": [],
   "source": [
    "import pandas as pd\n",
    "import numpy as np\n",
    "\n",
    "pd.set_option('display.max_columns',None)"
   ]
  },
  {
   "cell_type": "code",
   "execution_count": 2,
   "id": "80e1692b",
   "metadata": {},
   "outputs": [
    {
     "name": "stdout",
     "output_type": "stream",
     "text": [
      "(53940, 10)\n"
     ]
    },
    {
     "data": {
      "text/html": [
       "<div>\n",
       "<style scoped>\n",
       "    .dataframe tbody tr th:only-of-type {\n",
       "        vertical-align: middle;\n",
       "    }\n",
       "\n",
       "    .dataframe tbody tr th {\n",
       "        vertical-align: top;\n",
       "    }\n",
       "\n",
       "    .dataframe thead th {\n",
       "        text-align: right;\n",
       "    }\n",
       "</style>\n",
       "<table border=\"1\" class=\"dataframe\">\n",
       "  <thead>\n",
       "    <tr style=\"text-align: right;\">\n",
       "      <th></th>\n",
       "      <th>carat</th>\n",
       "      <th>cut</th>\n",
       "      <th>color</th>\n",
       "      <th>clarity</th>\n",
       "      <th>depth</th>\n",
       "      <th>table</th>\n",
       "      <th>x</th>\n",
       "      <th>y</th>\n",
       "      <th>z</th>\n",
       "      <th>price</th>\n",
       "    </tr>\n",
       "  </thead>\n",
       "  <tbody>\n",
       "    <tr>\n",
       "      <th>0</th>\n",
       "      <td>0.23</td>\n",
       "      <td>Ideal</td>\n",
       "      <td>E</td>\n",
       "      <td>SI2</td>\n",
       "      <td>61.5</td>\n",
       "      <td>55.0</td>\n",
       "      <td>3.95</td>\n",
       "      <td>3.98</td>\n",
       "      <td>2.43</td>\n",
       "      <td>326</td>\n",
       "    </tr>\n",
       "    <tr>\n",
       "      <th>1</th>\n",
       "      <td>0.21</td>\n",
       "      <td>Premium</td>\n",
       "      <td>E</td>\n",
       "      <td>SI1</td>\n",
       "      <td>59.8</td>\n",
       "      <td>61.0</td>\n",
       "      <td>3.89</td>\n",
       "      <td>3.84</td>\n",
       "      <td>2.31</td>\n",
       "      <td>326</td>\n",
       "    </tr>\n",
       "    <tr>\n",
       "      <th>2</th>\n",
       "      <td>0.23</td>\n",
       "      <td>Good</td>\n",
       "      <td>E</td>\n",
       "      <td>VS1</td>\n",
       "      <td>56.9</td>\n",
       "      <td>65.0</td>\n",
       "      <td>4.05</td>\n",
       "      <td>4.07</td>\n",
       "      <td>2.31</td>\n",
       "      <td>327</td>\n",
       "    </tr>\n",
       "    <tr>\n",
       "      <th>3</th>\n",
       "      <td>0.29</td>\n",
       "      <td>Premium</td>\n",
       "      <td>I</td>\n",
       "      <td>VS2</td>\n",
       "      <td>62.4</td>\n",
       "      <td>58.0</td>\n",
       "      <td>4.20</td>\n",
       "      <td>4.23</td>\n",
       "      <td>2.63</td>\n",
       "      <td>334</td>\n",
       "    </tr>\n",
       "    <tr>\n",
       "      <th>4</th>\n",
       "      <td>0.31</td>\n",
       "      <td>Good</td>\n",
       "      <td>J</td>\n",
       "      <td>SI2</td>\n",
       "      <td>63.3</td>\n",
       "      <td>58.0</td>\n",
       "      <td>4.34</td>\n",
       "      <td>4.35</td>\n",
       "      <td>2.75</td>\n",
       "      <td>335</td>\n",
       "    </tr>\n",
       "  </tbody>\n",
       "</table>\n",
       "</div>"
      ],
      "text/plain": [
       "   carat      cut color clarity  depth  table     x     y     z  price\n",
       "0   0.23    Ideal     E     SI2   61.5   55.0  3.95  3.98  2.43    326\n",
       "1   0.21  Premium     E     SI1   59.8   61.0  3.89  3.84  2.31    326\n",
       "2   0.23     Good     E     VS1   56.9   65.0  4.05  4.07  2.31    327\n",
       "3   0.29  Premium     I     VS2   62.4   58.0  4.20  4.23  2.63    334\n",
       "4   0.31     Good     J     SI2   63.3   58.0  4.34  4.35  2.75    335"
      ]
     },
     "execution_count": 2,
     "metadata": {},
     "output_type": "execute_result"
    }
   ],
   "source": [
    "df = pd.read_csv('../data/diamonds.csv')\n",
    "print(df.shape)\n",
    "df.head()"
   ]
  },
  {
   "cell_type": "code",
   "execution_count": 3,
   "id": "74391332",
   "metadata": {},
   "outputs": [
    {
     "data": {
      "text/plain": [
       "carat      float64\n",
       "cut         object\n",
       "color       object\n",
       "clarity     object\n",
       "depth      float64\n",
       "table      float64\n",
       "x          float64\n",
       "y          float64\n",
       "z          float64\n",
       "price        int64\n",
       "dtype: object"
      ]
     },
     "execution_count": 3,
     "metadata": {},
     "output_type": "execute_result"
    }
   ],
   "source": [
    "df.dtypes"
   ]
  },
  {
   "cell_type": "code",
   "execution_count": 4,
   "id": "4ae79452",
   "metadata": {},
   "outputs": [
    {
     "data": {
      "text/html": [
       "<div>\n",
       "<style scoped>\n",
       "    .dataframe tbody tr th:only-of-type {\n",
       "        vertical-align: middle;\n",
       "    }\n",
       "\n",
       "    .dataframe tbody tr th {\n",
       "        vertical-align: top;\n",
       "    }\n",
       "\n",
       "    .dataframe thead th {\n",
       "        text-align: right;\n",
       "    }\n",
       "</style>\n",
       "<table border=\"1\" class=\"dataframe\">\n",
       "  <thead>\n",
       "    <tr style=\"text-align: right;\">\n",
       "      <th></th>\n",
       "      <th>cut</th>\n",
       "      <th>color</th>\n",
       "      <th>clarity</th>\n",
       "    </tr>\n",
       "  </thead>\n",
       "  <tbody>\n",
       "    <tr>\n",
       "      <th>count</th>\n",
       "      <td>53940</td>\n",
       "      <td>53940</td>\n",
       "      <td>53940</td>\n",
       "    </tr>\n",
       "    <tr>\n",
       "      <th>unique</th>\n",
       "      <td>5</td>\n",
       "      <td>7</td>\n",
       "      <td>8</td>\n",
       "    </tr>\n",
       "    <tr>\n",
       "      <th>top</th>\n",
       "      <td>Ideal</td>\n",
       "      <td>G</td>\n",
       "      <td>SI1</td>\n",
       "    </tr>\n",
       "    <tr>\n",
       "      <th>freq</th>\n",
       "      <td>21551</td>\n",
       "      <td>11292</td>\n",
       "      <td>13065</td>\n",
       "    </tr>\n",
       "  </tbody>\n",
       "</table>\n",
       "</div>"
      ],
      "text/plain": [
       "          cut  color clarity\n",
       "count   53940  53940   53940\n",
       "unique      5      7       8\n",
       "top     Ideal      G     SI1\n",
       "freq    21551  11292   13065"
      ]
     },
     "execution_count": 4,
     "metadata": {},
     "output_type": "execute_result"
    }
   ],
   "source": [
    "df.describe(include=object)"
   ]
  },
  {
   "cell_type": "code",
   "execution_count": 5,
   "id": "9912a431",
   "metadata": {},
   "outputs": [
    {
     "data": {
      "text/html": [
       "<div>\n",
       "<style scoped>\n",
       "    .dataframe tbody tr th:only-of-type {\n",
       "        vertical-align: middle;\n",
       "    }\n",
       "\n",
       "    .dataframe tbody tr th {\n",
       "        vertical-align: top;\n",
       "    }\n",
       "\n",
       "    .dataframe thead th {\n",
       "        text-align: right;\n",
       "    }\n",
       "</style>\n",
       "<table border=\"1\" class=\"dataframe\">\n",
       "  <thead>\n",
       "    <tr style=\"text-align: right;\">\n",
       "      <th></th>\n",
       "      <th>carat</th>\n",
       "      <th>depth</th>\n",
       "      <th>table</th>\n",
       "      <th>x</th>\n",
       "      <th>y</th>\n",
       "      <th>z</th>\n",
       "      <th>price</th>\n",
       "    </tr>\n",
       "  </thead>\n",
       "  <tbody>\n",
       "    <tr>\n",
       "      <th>count</th>\n",
       "      <td>53940.000</td>\n",
       "      <td>53940.000</td>\n",
       "      <td>53940.000</td>\n",
       "      <td>53940.000</td>\n",
       "      <td>53940.000</td>\n",
       "      <td>53940.000</td>\n",
       "      <td>53940.00</td>\n",
       "    </tr>\n",
       "    <tr>\n",
       "      <th>mean</th>\n",
       "      <td>0.798</td>\n",
       "      <td>61.749</td>\n",
       "      <td>57.457</td>\n",
       "      <td>5.731</td>\n",
       "      <td>5.735</td>\n",
       "      <td>3.539</td>\n",
       "      <td>3932.80</td>\n",
       "    </tr>\n",
       "    <tr>\n",
       "      <th>std</th>\n",
       "      <td>0.474</td>\n",
       "      <td>1.433</td>\n",
       "      <td>2.234</td>\n",
       "      <td>1.122</td>\n",
       "      <td>1.142</td>\n",
       "      <td>0.706</td>\n",
       "      <td>3989.44</td>\n",
       "    </tr>\n",
       "    <tr>\n",
       "      <th>min</th>\n",
       "      <td>0.200</td>\n",
       "      <td>43.000</td>\n",
       "      <td>43.000</td>\n",
       "      <td>0.000</td>\n",
       "      <td>0.000</td>\n",
       "      <td>0.000</td>\n",
       "      <td>326.00</td>\n",
       "    </tr>\n",
       "    <tr>\n",
       "      <th>25%</th>\n",
       "      <td>0.400</td>\n",
       "      <td>61.000</td>\n",
       "      <td>56.000</td>\n",
       "      <td>4.710</td>\n",
       "      <td>4.720</td>\n",
       "      <td>2.910</td>\n",
       "      <td>950.00</td>\n",
       "    </tr>\n",
       "    <tr>\n",
       "      <th>50%</th>\n",
       "      <td>0.700</td>\n",
       "      <td>61.800</td>\n",
       "      <td>57.000</td>\n",
       "      <td>5.700</td>\n",
       "      <td>5.710</td>\n",
       "      <td>3.530</td>\n",
       "      <td>2401.00</td>\n",
       "    </tr>\n",
       "    <tr>\n",
       "      <th>75%</th>\n",
       "      <td>1.040</td>\n",
       "      <td>62.500</td>\n",
       "      <td>59.000</td>\n",
       "      <td>6.540</td>\n",
       "      <td>6.540</td>\n",
       "      <td>4.040</td>\n",
       "      <td>5324.25</td>\n",
       "    </tr>\n",
       "    <tr>\n",
       "      <th>max</th>\n",
       "      <td>5.010</td>\n",
       "      <td>79.000</td>\n",
       "      <td>95.000</td>\n",
       "      <td>10.740</td>\n",
       "      <td>58.900</td>\n",
       "      <td>31.800</td>\n",
       "      <td>18823.00</td>\n",
       "    </tr>\n",
       "  </tbody>\n",
       "</table>\n",
       "</div>"
      ],
      "text/plain": [
       "           carat      depth      table          x          y          z  \\\n",
       "count  53940.000  53940.000  53940.000  53940.000  53940.000  53940.000   \n",
       "mean       0.798     61.749     57.457      5.731      5.735      3.539   \n",
       "std        0.474      1.433      2.234      1.122      1.142      0.706   \n",
       "min        0.200     43.000     43.000      0.000      0.000      0.000   \n",
       "25%        0.400     61.000     56.000      4.710      4.720      2.910   \n",
       "50%        0.700     61.800     57.000      5.700      5.710      3.530   \n",
       "75%        1.040     62.500     59.000      6.540      6.540      4.040   \n",
       "max        5.010     79.000     95.000     10.740     58.900     31.800   \n",
       "\n",
       "          price  \n",
       "count  53940.00  \n",
       "mean    3932.80  \n",
       "std     3989.44  \n",
       "min      326.00  \n",
       "25%      950.00  \n",
       "50%     2401.00  \n",
       "75%     5324.25  \n",
       "max    18823.00  "
      ]
     },
     "execution_count": 5,
     "metadata": {},
     "output_type": "execute_result"
    }
   ],
   "source": [
    "df.describe(include=np.number).round(3)"
   ]
  },
  {
   "cell_type": "code",
   "execution_count": 6,
   "id": "d238d2ce",
   "metadata": {},
   "outputs": [
    {
     "name": "stderr",
     "output_type": "stream",
     "text": [
      "<ipython-input-6-07da6758eeb7>:1: DeprecationWarning: `np.object` is a deprecated alias for the builtin `object`. To silence this warning, use `object` by itself. Doing this will not modify any behavior and is safe. \n",
      "Deprecated in NumPy 1.20; for more details and guidance: https://numpy.org/devdocs/release/1.20.0-notes.html#deprecations\n",
      "  categorical_cols = df.columns[df.dtypes==np.object].tolist()\n"
     ]
    },
    {
     "data": {
      "text/plain": [
       "['cut', 'color', 'clarity']"
      ]
     },
     "execution_count": 6,
     "metadata": {},
     "output_type": "execute_result"
    }
   ],
   "source": [
    "categorical_cols = df.columns[df.dtypes==np.object].tolist()\n",
    "categorical_cols"
   ]
  },
  {
   "cell_type": "code",
   "execution_count": 7,
   "id": "d62a3c46",
   "metadata": {},
   "outputs": [
    {
     "name": "stdout",
     "output_type": "stream",
     "text": [
      "Column cut:\n",
      "Ideal        21551\n",
      "Premium      13791\n",
      "Very Good    12082\n",
      "Good          4906\n",
      "Fair          1610\n",
      "Name: cut, dtype: int64 \n",
      "\n",
      "Column color:\n",
      "G    11292\n",
      "E     9797\n",
      "F     9542\n",
      "H     8304\n",
      "D     6775\n",
      "I     5422\n",
      "J     2808\n",
      "Name: color, dtype: int64 \n",
      "\n",
      "Column clarity:\n",
      "SI1     13065\n",
      "VS2     12258\n",
      "SI2      9194\n",
      "VS1      8171\n",
      "VVS2     5066\n",
      "VVS1     3655\n",
      "IF       1790\n",
      "I1        741\n",
      "Name: clarity, dtype: int64 \n",
      "\n"
     ]
    }
   ],
   "source": [
    "for cat_col in categorical_cols:\n",
    "    print('Column '+cat_col +':')\n",
    "    print(df[cat_col].value_counts(),'\\n')"
   ]
  },
  {
   "cell_type": "markdown",
   "id": "36b67233",
   "metadata": {},
   "source": [
    "#### Checking for Missing Value"
   ]
  },
  {
   "cell_type": "code",
   "execution_count": 8,
   "id": "6e0b104d",
   "metadata": {},
   "outputs": [
    {
     "data": {
      "text/plain": [
       "carat      0\n",
       "cut        0\n",
       "color      0\n",
       "clarity    0\n",
       "depth      0\n",
       "table      0\n",
       "x          0\n",
       "y          0\n",
       "z          0\n",
       "price      0\n",
       "dtype: int64"
      ]
     },
     "execution_count": 8,
     "metadata": {},
     "output_type": "execute_result"
    }
   ],
   "source": [
    "df.isna().sum()"
   ]
  },
  {
   "cell_type": "markdown",
   "id": "296314e0",
   "metadata": {},
   "source": [
    "### Data Prepration"
   ]
  },
  {
   "cell_type": "code",
   "execution_count": 9,
   "id": "45354156",
   "metadata": {},
   "outputs": [],
   "source": [
    "from sklearn import preprocessing\n",
    "\n",
    "# last column as target feature\n",
    "target = df.iloc[:,-1]\n",
    "\n",
    "#everything else is Data, i.e., the set of descriptive features\n",
    "Data = df.iloc[:, :-1]\n",
    "\n",
    "# if a nominal feature has only 2 levels: encoding as a single binary\n",
    "for col in categorical_cols:\n",
    "    n = len(Data[col].unique())\n",
    "    if n==2:\n",
    "        Data[col] = pd.get_dummies(Data[col],drop_first=True)\n",
    "\n",
    "        \n",
    "#for categorical features with >2 levels: useing hot-encoding \n",
    "Data = pd.get_dummies(Data)\n",
    "Data_cols=Data.columns\n",
    "\n",
    "# Encoding\n",
    "Data = pd.DataFrame(preprocessing.MinMaxScaler().fit_transform(Data),\n",
    "                    columns=Data_cols)"
   ]
  },
  {
   "cell_type": "code",
   "execution_count": 10,
   "id": "054fec0a",
   "metadata": {},
   "outputs": [
    {
     "name": "stdout",
     "output_type": "stream",
     "text": [
      "(53940, 26)\n"
     ]
    },
    {
     "data": {
      "text/html": [
       "<div>\n",
       "<style scoped>\n",
       "    .dataframe tbody tr th:only-of-type {\n",
       "        vertical-align: middle;\n",
       "    }\n",
       "\n",
       "    .dataframe tbody tr th {\n",
       "        vertical-align: top;\n",
       "    }\n",
       "\n",
       "    .dataframe thead th {\n",
       "        text-align: right;\n",
       "    }\n",
       "</style>\n",
       "<table border=\"1\" class=\"dataframe\">\n",
       "  <thead>\n",
       "    <tr style=\"text-align: right;\">\n",
       "      <th></th>\n",
       "      <th>carat</th>\n",
       "      <th>depth</th>\n",
       "      <th>table</th>\n",
       "      <th>x</th>\n",
       "      <th>y</th>\n",
       "      <th>z</th>\n",
       "      <th>cut_Fair</th>\n",
       "      <th>cut_Good</th>\n",
       "      <th>cut_Ideal</th>\n",
       "      <th>cut_Premium</th>\n",
       "      <th>cut_Very Good</th>\n",
       "      <th>color_D</th>\n",
       "      <th>color_E</th>\n",
       "      <th>color_F</th>\n",
       "      <th>color_G</th>\n",
       "      <th>color_H</th>\n",
       "      <th>color_I</th>\n",
       "      <th>color_J</th>\n",
       "      <th>clarity_I1</th>\n",
       "      <th>clarity_IF</th>\n",
       "      <th>clarity_SI1</th>\n",
       "      <th>clarity_SI2</th>\n",
       "      <th>clarity_VS1</th>\n",
       "      <th>clarity_VS2</th>\n",
       "      <th>clarity_VVS1</th>\n",
       "      <th>clarity_VVS2</th>\n",
       "    </tr>\n",
       "  </thead>\n",
       "  <tbody>\n",
       "    <tr>\n",
       "      <th>0</th>\n",
       "      <td>0.006237</td>\n",
       "      <td>0.513889</td>\n",
       "      <td>0.230769</td>\n",
       "      <td>0.367784</td>\n",
       "      <td>0.067572</td>\n",
       "      <td>0.076415</td>\n",
       "      <td>0.0</td>\n",
       "      <td>0.0</td>\n",
       "      <td>1.0</td>\n",
       "      <td>0.0</td>\n",
       "      <td>0.0</td>\n",
       "      <td>0.0</td>\n",
       "      <td>1.0</td>\n",
       "      <td>0.0</td>\n",
       "      <td>0.0</td>\n",
       "      <td>0.0</td>\n",
       "      <td>0.0</td>\n",
       "      <td>0.0</td>\n",
       "      <td>0.0</td>\n",
       "      <td>0.0</td>\n",
       "      <td>0.0</td>\n",
       "      <td>1.0</td>\n",
       "      <td>0.0</td>\n",
       "      <td>0.0</td>\n",
       "      <td>0.0</td>\n",
       "      <td>0.0</td>\n",
       "    </tr>\n",
       "    <tr>\n",
       "      <th>1</th>\n",
       "      <td>0.002079</td>\n",
       "      <td>0.466667</td>\n",
       "      <td>0.346154</td>\n",
       "      <td>0.362197</td>\n",
       "      <td>0.065195</td>\n",
       "      <td>0.072642</td>\n",
       "      <td>0.0</td>\n",
       "      <td>0.0</td>\n",
       "      <td>0.0</td>\n",
       "      <td>1.0</td>\n",
       "      <td>0.0</td>\n",
       "      <td>0.0</td>\n",
       "      <td>1.0</td>\n",
       "      <td>0.0</td>\n",
       "      <td>0.0</td>\n",
       "      <td>0.0</td>\n",
       "      <td>0.0</td>\n",
       "      <td>0.0</td>\n",
       "      <td>0.0</td>\n",
       "      <td>0.0</td>\n",
       "      <td>1.0</td>\n",
       "      <td>0.0</td>\n",
       "      <td>0.0</td>\n",
       "      <td>0.0</td>\n",
       "      <td>0.0</td>\n",
       "      <td>0.0</td>\n",
       "    </tr>\n",
       "    <tr>\n",
       "      <th>2</th>\n",
       "      <td>0.006237</td>\n",
       "      <td>0.386111</td>\n",
       "      <td>0.423077</td>\n",
       "      <td>0.377095</td>\n",
       "      <td>0.069100</td>\n",
       "      <td>0.072642</td>\n",
       "      <td>0.0</td>\n",
       "      <td>1.0</td>\n",
       "      <td>0.0</td>\n",
       "      <td>0.0</td>\n",
       "      <td>0.0</td>\n",
       "      <td>0.0</td>\n",
       "      <td>1.0</td>\n",
       "      <td>0.0</td>\n",
       "      <td>0.0</td>\n",
       "      <td>0.0</td>\n",
       "      <td>0.0</td>\n",
       "      <td>0.0</td>\n",
       "      <td>0.0</td>\n",
       "      <td>0.0</td>\n",
       "      <td>0.0</td>\n",
       "      <td>0.0</td>\n",
       "      <td>1.0</td>\n",
       "      <td>0.0</td>\n",
       "      <td>0.0</td>\n",
       "      <td>0.0</td>\n",
       "    </tr>\n",
       "    <tr>\n",
       "      <th>3</th>\n",
       "      <td>0.018711</td>\n",
       "      <td>0.538889</td>\n",
       "      <td>0.288462</td>\n",
       "      <td>0.391061</td>\n",
       "      <td>0.071817</td>\n",
       "      <td>0.082704</td>\n",
       "      <td>0.0</td>\n",
       "      <td>0.0</td>\n",
       "      <td>0.0</td>\n",
       "      <td>1.0</td>\n",
       "      <td>0.0</td>\n",
       "      <td>0.0</td>\n",
       "      <td>0.0</td>\n",
       "      <td>0.0</td>\n",
       "      <td>0.0</td>\n",
       "      <td>0.0</td>\n",
       "      <td>1.0</td>\n",
       "      <td>0.0</td>\n",
       "      <td>0.0</td>\n",
       "      <td>0.0</td>\n",
       "      <td>0.0</td>\n",
       "      <td>0.0</td>\n",
       "      <td>0.0</td>\n",
       "      <td>1.0</td>\n",
       "      <td>0.0</td>\n",
       "      <td>0.0</td>\n",
       "    </tr>\n",
       "    <tr>\n",
       "      <th>4</th>\n",
       "      <td>0.022869</td>\n",
       "      <td>0.563889</td>\n",
       "      <td>0.288462</td>\n",
       "      <td>0.404097</td>\n",
       "      <td>0.073854</td>\n",
       "      <td>0.086478</td>\n",
       "      <td>0.0</td>\n",
       "      <td>1.0</td>\n",
       "      <td>0.0</td>\n",
       "      <td>0.0</td>\n",
       "      <td>0.0</td>\n",
       "      <td>0.0</td>\n",
       "      <td>0.0</td>\n",
       "      <td>0.0</td>\n",
       "      <td>0.0</td>\n",
       "      <td>0.0</td>\n",
       "      <td>0.0</td>\n",
       "      <td>1.0</td>\n",
       "      <td>0.0</td>\n",
       "      <td>0.0</td>\n",
       "      <td>0.0</td>\n",
       "      <td>1.0</td>\n",
       "      <td>0.0</td>\n",
       "      <td>0.0</td>\n",
       "      <td>0.0</td>\n",
       "      <td>0.0</td>\n",
       "    </tr>\n",
       "  </tbody>\n",
       "</table>\n",
       "</div>"
      ],
      "text/plain": [
       "      carat     depth     table         x         y         z  cut_Fair  \\\n",
       "0  0.006237  0.513889  0.230769  0.367784  0.067572  0.076415       0.0   \n",
       "1  0.002079  0.466667  0.346154  0.362197  0.065195  0.072642       0.0   \n",
       "2  0.006237  0.386111  0.423077  0.377095  0.069100  0.072642       0.0   \n",
       "3  0.018711  0.538889  0.288462  0.391061  0.071817  0.082704       0.0   \n",
       "4  0.022869  0.563889  0.288462  0.404097  0.073854  0.086478       0.0   \n",
       "\n",
       "   cut_Good  cut_Ideal  cut_Premium  cut_Very Good  color_D  color_E  color_F  \\\n",
       "0       0.0        1.0          0.0            0.0      0.0      1.0      0.0   \n",
       "1       0.0        0.0          1.0            0.0      0.0      1.0      0.0   \n",
       "2       1.0        0.0          0.0            0.0      0.0      1.0      0.0   \n",
       "3       0.0        0.0          1.0            0.0      0.0      0.0      0.0   \n",
       "4       1.0        0.0          0.0            0.0      0.0      0.0      0.0   \n",
       "\n",
       "   color_G  color_H  color_I  color_J  clarity_I1  clarity_IF  clarity_SI1  \\\n",
       "0      0.0      0.0      0.0      0.0         0.0         0.0          0.0   \n",
       "1      0.0      0.0      0.0      0.0         0.0         0.0          1.0   \n",
       "2      0.0      0.0      0.0      0.0         0.0         0.0          0.0   \n",
       "3      0.0      0.0      1.0      0.0         0.0         0.0          0.0   \n",
       "4      0.0      0.0      0.0      1.0         0.0         0.0          0.0   \n",
       "\n",
       "   clarity_SI2  clarity_VS1  clarity_VS2  clarity_VVS1  clarity_VVS2  \n",
       "0          1.0          0.0          0.0           0.0           0.0  \n",
       "1          0.0          0.0          0.0           0.0           0.0  \n",
       "2          0.0          1.0          0.0           0.0           0.0  \n",
       "3          0.0          0.0          1.0           0.0           0.0  \n",
       "4          1.0          0.0          0.0           0.0           0.0  "
      ]
     },
     "execution_count": 10,
     "metadata": {},
     "output_type": "execute_result"
    }
   ],
   "source": [
    "print(Data.shape)\n",
    "Data.head()"
   ]
  },
  {
   "cell_type": "code",
   "execution_count": 11,
   "id": "2e04a3c8",
   "metadata": {},
   "outputs": [
    {
     "name": "stdout",
     "output_type": "stream",
     "text": [
      "(53940,)\n"
     ]
    },
    {
     "data": {
      "text/plain": [
       "0    326\n",
       "1    326\n",
       "2    327\n",
       "3    334\n",
       "4    335\n",
       "Name: price, dtype: int64"
      ]
     },
     "execution_count": 11,
     "metadata": {},
     "output_type": "execute_result"
    }
   ],
   "source": [
    "print(target.shape)\n",
    "target.head()"
   ]
  },
  {
   "cell_type": "markdown",
   "id": "c70e3201",
   "metadata": {},
   "source": [
    "# Exercise 1: Modeling Preparation"
   ]
  },
  {
   "cell_type": "markdown",
   "id": "98d6ddf9",
   "metadata": {},
   "source": [
    "- Randomly sample 5000 rows as it's too big for a short demo (using a random seed of 999). Make sure to run reset_index(drop=True) on the sampled data to reset the indices.\n",
    "\n",
    "    - **NOTE:** It's **extremely** important to use the same seed for both Data and target while sampling, otherwise you will happily mix and match different rows without getting any execution errors and all you results will be garbage.\n",
    "    \n",
    "- Split the sampled data as 70% training set and the remaining 30% test set using a random seed of 999."
   ]
  },
  {
   "cell_type": "code",
   "execution_count": 12,
   "id": "b1872908",
   "metadata": {},
   "outputs": [
    {
     "data": {
      "text/plain": [
       "(5000, 26)"
      ]
     },
     "execution_count": 12,
     "metadata": {},
     "output_type": "execute_result"
    }
   ],
   "source": [
    "Data_sample= Data.sample(n=5000,random_state=999).reset_index(drop=True)\n",
    "Data_sample.shape"
   ]
  },
  {
   "cell_type": "code",
   "execution_count": 13,
   "id": "1b8fe96a",
   "metadata": {},
   "outputs": [
    {
     "data": {
      "text/plain": [
       "(5000,)"
      ]
     },
     "execution_count": 13,
     "metadata": {},
     "output_type": "execute_result"
    }
   ],
   "source": [
    "target_sample = target.sample(n=5000,random_state=999).reset_index(drop=True)\n",
    "target_sample.shape"
   ]
  },
  {
   "cell_type": "code",
   "execution_count": 15,
   "id": "fdb0ab83",
   "metadata": {},
   "outputs": [],
   "source": [
    "from sklearn.model_selection import train_test_split\n",
    "\n",
    "D_train, D_test, t_train, t_test = train_test_split(Data_sample.values,target_sample.values,\n",
    "                                                   test_size=0.3,\n",
    "                                                   random_state=999)"
   ]
  },
  {
   "cell_type": "code",
   "execution_count": 16,
   "id": "3ce394e0",
   "metadata": {},
   "outputs": [
    {
     "name": "stdout",
     "output_type": "stream",
     "text": [
      "(3500, 26)\n",
      "(1500, 26)\n",
      "(3500,)\n",
      "(1500,)\n"
     ]
    }
   ],
   "source": [
    "print(D_train.shape)\n",
    "print(D_test.shape)\n",
    "print(t_train.shape)\n",
    "print(t_test.shape)"
   ]
  },
  {
   "cell_type": "markdown",
   "id": "65c5c9d7",
   "metadata": {},
   "source": [
    "# Exercise 2\n",
    "- Fit a nearest neighbor (NN) regressor with  k=3  neighbors using the Euclidean distance.\n",
    "- Fit the model on the train data and evaluate its  R2  (the default \"score()\" for regressors) performance on the test data."
   ]
  },
  {
   "cell_type": "code",
   "execution_count": 19,
   "id": "24142fb6",
   "metadata": {},
   "outputs": [
    {
     "name": "stdout",
     "output_type": "stream",
     "text": [
      "score_knn : 0.83\n",
      "0.8277702581929595\n"
     ]
    }
   ],
   "source": [
    "from sklearn.neighbors import KNeighborsRegressor\n",
    "\n",
    "knn_regressor = KNeighborsRegressor(n_neighbors=3,p=2)\n",
    "knn_regressor.fit(D_train,t_train)\n",
    "\n",
    "score_knn = knn_regressor.score(D_test,t_test)\n",
    "\n",
    "print(f'score_knn : {score_knn:.2f}')"
   ]
  },
  {
   "cell_type": "markdown",
   "id": "b5678a1f",
   "metadata": {},
   "source": [
    "# Exercise 3\n",
    "- Extend Question 2 by fitting  k=1,…,10  neighbors using the Manhattan and Euclidean distances respectively.\n",
    "- What is the optimal  k  value for each distance metric? That is, at which  k , the NN regressor returns the highest  R2  score?\n",
    "- Which distance metric seems to be better?"
   ]
  },
  {
   "cell_type": "code",
   "execution_count": 26,
   "id": "9ca34ac5",
   "metadata": {},
   "outputs": [],
   "source": [
    "k_list = list(np.arange(1,11))\n",
    "\n",
    "knn_score_manhattan=[]\n",
    "knn_score_euclidean=[]\n",
    "\n",
    "for k in k_list:\n",
    "    knn_regressor_manhattan = KNeighborsRegressor(n_neighbors=k,p=1)\n",
    "    knn_regressor_manhattan.fit(D_train,t_train)\n",
    "    knn_score_manhattan = knn_score_manhattan + [knn_regressor_manhattan.score(D_test,t_test)]\n",
    "        \n",
    "    knn_regressor_euclidean = KNeighborsRegressor(n_neighbors=k,p=2)\n",
    "    knn_regressor_euclidean.fit(D_train,t_train)\n",
    "    knn_score_euclidean = knn_score_euclidean + [knn_regressor_euclidean.score(D_test,t_test)]"
   ]
  },
  {
   "cell_type": "code",
   "execution_count": 27,
   "id": "e9b96d6d",
   "metadata": {},
   "outputs": [
    {
     "data": {
      "text/html": [
       "<div>\n",
       "<style scoped>\n",
       "    .dataframe tbody tr th:only-of-type {\n",
       "        vertical-align: middle;\n",
       "    }\n",
       "\n",
       "    .dataframe tbody tr th {\n",
       "        vertical-align: top;\n",
       "    }\n",
       "\n",
       "    .dataframe thead th {\n",
       "        text-align: right;\n",
       "    }\n",
       "</style>\n",
       "<table border=\"1\" class=\"dataframe\">\n",
       "  <thead>\n",
       "    <tr style=\"text-align: right;\">\n",
       "      <th></th>\n",
       "      <th>score_manhattan</th>\n",
       "      <th>score_euclidean</th>\n",
       "    </tr>\n",
       "  </thead>\n",
       "  <tbody>\n",
       "    <tr>\n",
       "      <th>1</th>\n",
       "      <td>0.835761</td>\n",
       "      <td>0.834437</td>\n",
       "    </tr>\n",
       "    <tr>\n",
       "      <th>2</th>\n",
       "      <td>0.840516</td>\n",
       "      <td>0.834388</td>\n",
       "    </tr>\n",
       "    <tr>\n",
       "      <th>3</th>\n",
       "      <td>0.830256</td>\n",
       "      <td>0.827770</td>\n",
       "    </tr>\n",
       "    <tr>\n",
       "      <th>4</th>\n",
       "      <td>0.809021</td>\n",
       "      <td>0.805942</td>\n",
       "    </tr>\n",
       "    <tr>\n",
       "      <th>5</th>\n",
       "      <td>0.784022</td>\n",
       "      <td>0.781398</td>\n",
       "    </tr>\n",
       "    <tr>\n",
       "      <th>6</th>\n",
       "      <td>0.750180</td>\n",
       "      <td>0.751187</td>\n",
       "    </tr>\n",
       "    <tr>\n",
       "      <th>7</th>\n",
       "      <td>0.725849</td>\n",
       "      <td>0.727718</td>\n",
       "    </tr>\n",
       "    <tr>\n",
       "      <th>8</th>\n",
       "      <td>0.706174</td>\n",
       "      <td>0.705348</td>\n",
       "    </tr>\n",
       "    <tr>\n",
       "      <th>9</th>\n",
       "      <td>0.690405</td>\n",
       "      <td>0.690273</td>\n",
       "    </tr>\n",
       "    <tr>\n",
       "      <th>10</th>\n",
       "      <td>0.676477</td>\n",
       "      <td>0.675774</td>\n",
       "    </tr>\n",
       "  </tbody>\n",
       "</table>\n",
       "</div>"
      ],
      "text/plain": [
       "    score_manhattan  score_euclidean\n",
       "1          0.835761         0.834437\n",
       "2          0.840516         0.834388\n",
       "3          0.830256         0.827770\n",
       "4          0.809021         0.805942\n",
       "5          0.784022         0.781398\n",
       "6          0.750180         0.751187\n",
       "7          0.725849         0.727718\n",
       "8          0.706174         0.705348\n",
       "9          0.690405         0.690273\n",
       "10         0.676477         0.675774"
      ]
     },
     "execution_count": 27,
     "metadata": {},
     "output_type": "execute_result"
    }
   ],
   "source": [
    "results = pd.DataFrame({'score_manhattan' : knn_score_manhattan,\n",
    "                       'score_euclidean' : knn_score_euclidean},\n",
    "                      index=k_list)\n",
    "results"
   ]
  },
  {
   "cell_type": "code",
   "execution_count": 42,
   "id": "f202c3b3",
   "metadata": {},
   "outputs": [
    {
     "name": "stderr",
     "output_type": "stream",
     "text": [
      "No handles with labels found to put in legend.\n"
     ]
    },
    {
     "data": {
      "text/plain": [
       "<matplotlib.legend.Legend at 0x1a912f63310>"
      ]
     },
     "execution_count": 42,
     "metadata": {},
     "output_type": "execute_result"
    },
    {
     "data": {
      "image/png": "[encoded data removed]",
      "text/plain": [
       "<Figure size 432x288 with 1 Axes>"
      ]
     },
     "metadata": {
      "needs_background": "light"
     },
     "output_type": "display_data"
    }
   ],
   "source": [
    "import matplotlib.pyplot as plt\n",
    "\n",
    "x=knn_score_manhattan\n",
    "y=knn_score_euclidean\n",
    "plt.plot(x,lw=4)\n",
    "plt.plot(y,lw=4)\n",
    "plt.legend()"
   ]
  },
  {
   "cell_type": "markdown",
   "id": "0f57842a",
   "metadata": {},
   "source": [
    "# Exercise 4\n",
    "- Fit a decision tree regressor with default values on the train data, and then evaluate its performance on the test data.\n",
    "- Does it perform better than the best KNN model from the previous question?"
   ]
  },
  {
   "cell_type": "code",
   "execution_count": 43,
   "id": "5f650d3d",
   "metadata": {},
   "outputs": [
    {
     "data": {
      "text/plain": [
       "0.9452800880582378"
      ]
     },
     "execution_count": 43,
     "metadata": {},
     "output_type": "execute_result"
    }
   ],
   "source": [
    "from sklearn.tree import DecisionTreeRegressor\n",
    "\n",
    "dt_regressor = DecisionTreeRegressor()\n",
    "dt_regressor.fit(D_train,t_train)\n",
    "dt_regressor.score(D_test,t_test)"
   ]
  },
  {
   "cell_type": "markdown",
   "id": "9dcbd6f7",
   "metadata": {},
   "source": [
    "Yes, it did perform better that Knn"
   ]
  },
  {
   "cell_type": "markdown",
   "id": "19ea5b06",
   "metadata": {},
   "source": [
    "# Exercise 5\n",
    "- Fit a simple linear regression model on train data, and then evaluate its performance on the test data. Hint: Use LinearRegression() in sklearn.linear_model.\n",
    "- How does it compare to the previous models?"
   ]
  },
  {
   "cell_type": "code",
   "execution_count": 45,
   "id": "deab7ce7",
   "metadata": {},
   "outputs": [
    {
     "data": {
      "text/plain": [
       "0.9333111179339317"
      ]
     },
     "execution_count": 45,
     "metadata": {},
     "output_type": "execute_result"
    }
   ],
   "source": [
    "from sklearn.linear_model import LinearRegression\n",
    "\n",
    "linera_regressor = LinearRegression()\n",
    "linera_regressor.fit(D_train,t_train)\n",
    "linera_regressor.score(D_test,t_test)"
   ]
  },
  {
   "cell_type": "markdown",
   "id": "3ea406dd",
   "metadata": {},
   "source": [
    "LR score is near to Decision_tree_regressor"
   ]
  },
  {
   "cell_type": "markdown",
   "id": "0f19bcf8",
   "metadata": {},
   "source": [
    "# Exercise 6\n",
    "- Fit a random forest regressor with n_estimators=100 on train data, and then evaluate its performance on the test data.\n",
    "- How does it compare to the previous models?"
   ]
  },
  {
   "cell_type": "code",
   "execution_count": 46,
   "id": "42e05782",
   "metadata": {},
   "outputs": [
    {
     "data": {
      "text/plain": [
       "0.9677210740707854"
      ]
     },
     "execution_count": 46,
     "metadata": {},
     "output_type": "execute_result"
    }
   ],
   "source": [
    "from sklearn.ensemble import RandomForestRegressor\n",
    "\n",
    "rf_regressor = RandomForestRegressor()\n",
    "rf_regressor.fit(D_train,t_train)\n",
    "rf_regressor.score(D_test,t_test)"
   ]
  },
  {
   "cell_type": "markdown",
   "id": "6937b842",
   "metadata": {},
   "source": [
    "It has higest score till now."
   ]
  },
  {
   "cell_type": "markdown",
   "id": "36705f58",
   "metadata": {},
   "source": [
    "# Exercise 7\n",
    "- Predict the first 5 observations of the test data using the linear regression model you built earlier.\n",
    "- Display your results as a data frame with three columns: 'target', 'prediction', 'absolute_diff'.\n",
    "- How do the predictions look?"
   ]
  },
  {
   "cell_type": "code",
   "execution_count": 50,
   "id": "abb23aea",
   "metadata": {},
   "outputs": [
    {
     "data": {
      "text/html": [
       "<div>\n",
       "<style scoped>\n",
       "    .dataframe tbody tr th:only-of-type {\n",
       "        vertical-align: middle;\n",
       "    }\n",
       "\n",
       "    .dataframe tbody tr th {\n",
       "        vertical-align: top;\n",
       "    }\n",
       "\n",
       "    .dataframe thead th {\n",
       "        text-align: right;\n",
       "    }\n",
       "</style>\n",
       "<table border=\"1\" class=\"dataframe\">\n",
       "  <thead>\n",
       "    <tr style=\"text-align: right;\">\n",
       "      <th></th>\n",
       "      <th>target</th>\n",
       "      <th>prediction</th>\n",
       "      <th>absolute_diff</th>\n",
       "    </tr>\n",
       "  </thead>\n",
       "  <tbody>\n",
       "    <tr>\n",
       "      <th>0</th>\n",
       "      <td>2919</td>\n",
       "      <td>4060.0</td>\n",
       "      <td>1141.0</td>\n",
       "    </tr>\n",
       "    <tr>\n",
       "      <th>1</th>\n",
       "      <td>912</td>\n",
       "      <td>1064.0</td>\n",
       "      <td>152.0</td>\n",
       "    </tr>\n",
       "    <tr>\n",
       "      <th>2</th>\n",
       "      <td>2365</td>\n",
       "      <td>2128.0</td>\n",
       "      <td>237.0</td>\n",
       "    </tr>\n",
       "    <tr>\n",
       "      <th>3</th>\n",
       "      <td>11666</td>\n",
       "      <td>10560.0</td>\n",
       "      <td>1106.0</td>\n",
       "    </tr>\n",
       "    <tr>\n",
       "      <th>4</th>\n",
       "      <td>1881</td>\n",
       "      <td>2290.0</td>\n",
       "      <td>409.0</td>\n",
       "    </tr>\n",
       "  </tbody>\n",
       "</table>\n",
       "</div>"
      ],
      "text/plain": [
       "   target  prediction  absolute_diff\n",
       "0    2919      4060.0         1141.0\n",
       "1     912      1064.0          152.0\n",
       "2    2365      2128.0          237.0\n",
       "3   11666     10560.0         1106.0\n",
       "4    1881      2290.0          409.0"
      ]
     },
     "execution_count": 50,
     "metadata": {},
     "output_type": "execute_result"
    }
   ],
   "source": [
    "new_obs=D_test[0:5]\n",
    "\n",
    "preds = linera_regressor.predict(new_obs)\n",
    "\n",
    "results = pd.DataFrame({'target':t_test[0:5],\n",
    "                       'prediction':preds})\n",
    "results['absolute_diff'] = np.abs(results['target'] - results['prediction'])\n",
    "results.round()"
   ]
  },
  {
   "cell_type": "code",
   "execution_count": null,
   "id": "257fbc06",
   "metadata": {},
   "outputs": [],
   "source": []
  }
 ],
 "metadata": {
  "kernelspec": {
   "display_name": "Python 3",
   "language": "python",
   "name": "python3"
  },
  "language_info": {
   "codemirror_mode": {
    "name": "ipython",
    "version": 3
   },
   "file_extension": ".py",
   "mimetype": "text/x-python",
   "name": "python",
   "nbconvert_exporter": "python",
   "pygments_lexer": "ipython3",
   "version": "3.8.8"
  }
 },
 "nbformat": 4,
 "nbformat_minor": 5
}
