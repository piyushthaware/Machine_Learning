{
 "cells": [
  {
   "cell_type": "markdown",
   "id": "74a3f6c7",
   "metadata": {},
   "source": [
    "**Instructions:**\n",
    "\n",
    "1. If you are having issues with reading in the dataset directly (which is most likely due to UCI's or your web browser's SSL settings), you can download the file on your computer manually and then upload it to your Azure project, which you can then read in as a local file.\n",
    "2. This is a very small dataset. So please do not perform any sampling.\n",
    "3. Make sure you follow the best practices in the Data Preperation.\n",
    "4. As a general rule, all categorical features need to be assumed to be nominal unless you have evidence to the contrary.\n",
    "5. This is an anonymised dataset. Thus, do not flag any numerical values as outliers regardless of their value for numerical features. As another hint, you won't have to look for outliers in categorical features either. However, you will need to look for some unusual values for both numerical and categorical features. \n",
    "6. For this question, you are to set all unusual values to missing values. Also, you are to impute any missing values with the mode for categorical features and with the median for numerical features. If there are multiple modes for a categorical feature, use the mode that comes first alphabetically.\n",
    "7. For the A2 numerical descriptive feature, you are to discretize it via equal-frequency binning with 3 bins named \"low\", \"medium\", and \"high\", and then use integer encoding for it.\n",
    "8. For normalization, you are to use standard scaling. You are allowed to use Scikit-Learn's preprocessing submodule for this purpose.\n",
    "9. The target feature needs be the last column in the clean data and its name needs to be target.\n",
    "10. You must perform all your preprocessing steps using Python. For any cleaning steps that you perform via Excel or simple find-and-replace in a text editor or any other language or in any other way, you will receive zero points.\n",
    "11. It's critical that the final clean data does not need any further processing so that it will work without any issues with any classifier within Scikit-Learn.\n",
    "12. Round all real-valued columns to 3 decimal places.\n",
    "13. Once you are done, name your final clean dataset as df_clean (if it's not already named as such).\n",
    "14. At the end, run each one of the following three lines in three separate code cells for a summary:\n",
    "    - df_clean.shape\n",
    "    - df_clean.describe(include='all').round(3) \n",
    "    - df_clean.head(5)\n",
    "15. Save your final clean dataset exactly as \"df_clean.csv\". Make sure your file has the correct column names (including the target column)."
   ]
  },
  {
   "cell_type": "markdown",
   "id": "2e2248f3",
   "metadata": {},
   "source": [
    "`Tasks to complete:`\n",
    "- T1:: Setting '?' cells to missing values.\n",
    "- T2:: Eliminating either the A4 or A5 redundant feature. If you did not, you lost the 10 points. However, we still gave full marks for a correct follow-through.\n",
    "- T3:: Imputing missing values.\n",
    "- T4:: Binning numeric feature A2.\n",
    "- T5:: Integer-encoding of feature A2.\n",
    "- T6:: One-Hot-Encoding of categorical descriptive features. If only 2 levels, use only one binary variable. If > 2 levels, encode using q binary variables.\n",
    "- T7:: Standard scaling of all descriptive features.\n",
    "- T8:: Remapping the target feature with 1 as the positive class without any scaling.\n",
    "- T9:: Clean data saved as a CSV file with (1) correct number of columns, (2) correct column names, (3) correct column values, and (4) with the target feature as the last column.\n",
    "- T10:: Running all the 3 lines of code at the end and displaying each one of their outputs."
   ]
  },
  {
   "cell_type": "markdown",
   "id": "6cb8534e",
   "metadata": {},
   "source": [
    "## Q1 Pre Processing"
   ]
  },
  {
   "cell_type": "code",
   "execution_count": 1,
   "id": "97329b70",
   "metadata": {},
   "outputs": [],
   "source": [
    "import pandas as pd\n",
    "import numpy as np"
   ]
  },
  {
   "cell_type": "markdown",
   "id": "8a8eb942",
   "metadata": {},
   "source": [
    "### T1\n",
    "**T1::** Setting '?' cells to missing values.\n",
    "\n",
    "Reading data and setting `\"?\" to NA value`"
   ]
  },
  {
   "cell_type": "code",
   "execution_count": 2,
   "id": "3755fb8f",
   "metadata": {},
   "outputs": [
    {
     "data": {
      "text/html": [
       "<div>\n",
       "<style scoped>\n",
       "    .dataframe tbody tr th:only-of-type {\n",
       "        vertical-align: middle;\n",
       "    }\n",
       "\n",
       "    .dataframe tbody tr th {\n",
       "        vertical-align: top;\n",
       "    }\n",
       "\n",
       "    .dataframe thead th {\n",
       "        text-align: right;\n",
       "    }\n",
       "</style>\n",
       "<table border=\"1\" class=\"dataframe\">\n",
       "  <thead>\n",
       "    <tr style=\"text-align: right;\">\n",
       "      <th></th>\n",
       "      <th>A1</th>\n",
       "      <th>A2</th>\n",
       "      <th>A3</th>\n",
       "      <th>A4</th>\n",
       "      <th>A5</th>\n",
       "      <th>A6</th>\n",
       "      <th>A7</th>\n",
       "      <th>A8</th>\n",
       "      <th>A9</th>\n",
       "      <th>A10</th>\n",
       "      <th>A11</th>\n",
       "      <th>A12</th>\n",
       "      <th>A13</th>\n",
       "      <th>A14</th>\n",
       "      <th>A15</th>\n",
       "      <th>A16</th>\n",
       "    </tr>\n",
       "  </thead>\n",
       "  <tbody>\n",
       "    <tr>\n",
       "      <th>0</th>\n",
       "      <td>b</td>\n",
       "      <td>30.83</td>\n",
       "      <td>0.00</td>\n",
       "      <td>u</td>\n",
       "      <td>g</td>\n",
       "      <td>w</td>\n",
       "      <td>v</td>\n",
       "      <td>1.25</td>\n",
       "      <td>t</td>\n",
       "      <td>t</td>\n",
       "      <td>1</td>\n",
       "      <td>f</td>\n",
       "      <td>g</td>\n",
       "      <td>202.0</td>\n",
       "      <td>0</td>\n",
       "      <td>+</td>\n",
       "    </tr>\n",
       "    <tr>\n",
       "      <th>1</th>\n",
       "      <td>a</td>\n",
       "      <td>58.67</td>\n",
       "      <td>4.46</td>\n",
       "      <td>u</td>\n",
       "      <td>g</td>\n",
       "      <td>q</td>\n",
       "      <td>h</td>\n",
       "      <td>3.04</td>\n",
       "      <td>t</td>\n",
       "      <td>t</td>\n",
       "      <td>6</td>\n",
       "      <td>f</td>\n",
       "      <td>g</td>\n",
       "      <td>43.0</td>\n",
       "      <td>560</td>\n",
       "      <td>+</td>\n",
       "    </tr>\n",
       "    <tr>\n",
       "      <th>2</th>\n",
       "      <td>a</td>\n",
       "      <td>24.50</td>\n",
       "      <td>0.50</td>\n",
       "      <td>u</td>\n",
       "      <td>g</td>\n",
       "      <td>q</td>\n",
       "      <td>h</td>\n",
       "      <td>1.50</td>\n",
       "      <td>t</td>\n",
       "      <td>f</td>\n",
       "      <td>0</td>\n",
       "      <td>f</td>\n",
       "      <td>g</td>\n",
       "      <td>280.0</td>\n",
       "      <td>824</td>\n",
       "      <td>+</td>\n",
       "    </tr>\n",
       "    <tr>\n",
       "      <th>3</th>\n",
       "      <td>b</td>\n",
       "      <td>27.83</td>\n",
       "      <td>1.54</td>\n",
       "      <td>u</td>\n",
       "      <td>g</td>\n",
       "      <td>w</td>\n",
       "      <td>v</td>\n",
       "      <td>3.75</td>\n",
       "      <td>t</td>\n",
       "      <td>t</td>\n",
       "      <td>5</td>\n",
       "      <td>t</td>\n",
       "      <td>g</td>\n",
       "      <td>100.0</td>\n",
       "      <td>3</td>\n",
       "      <td>+</td>\n",
       "    </tr>\n",
       "  </tbody>\n",
       "</table>\n",
       "</div>"
      ],
      "text/plain": [
       "  A1     A2    A3 A4 A5 A6 A7    A8 A9 A10  A11 A12 A13    A14  A15 A16\n",
       "0  b  30.83  0.00  u  g  w  v  1.25  t   t    1   f   g  202.0    0   +\n",
       "1  a  58.67  4.46  u  g  q  h  3.04  t   t    6   f   g   43.0  560   +\n",
       "2  a  24.50  0.50  u  g  q  h  1.50  t   f    0   f   g  280.0  824   +\n",
       "3  b  27.83  1.54  u  g  w  v  3.75  t   t    5   t   g  100.0    3   +"
      ]
     },
     "execution_count": 2,
     "metadata": {},
     "output_type": "execute_result"
    }
   ],
   "source": [
    "cols = ('A1','A2','A3','A4','A5','A6','A7','A8','A9','A10','A11','A12','A13','A14','A15','A16')\n",
    "df = pd.read_csv('C:/Users/piyus/OneDrive/Desktop/Brushing/Machine Learning/practice/Ass 1/crx.data',names=cols, sep=',',na_values=['?'])\n",
    "df.head(4)"
   ]
  },
  {
   "cell_type": "code",
   "execution_count": 3,
   "id": "fda342ff",
   "metadata": {},
   "outputs": [
    {
     "data": {
      "text/plain": [
       "A1      object\n",
       "A2     float64\n",
       "A3     float64\n",
       "A4      object\n",
       "A5      object\n",
       "A6      object\n",
       "A7      object\n",
       "A8     float64\n",
       "A9      object\n",
       "A10     object\n",
       "A11      int64\n",
       "A12     object\n",
       "A13     object\n",
       "A14    float64\n",
       "A15      int64\n",
       "A16     object\n",
       "dtype: object"
      ]
     },
     "execution_count": 3,
     "metadata": {},
     "output_type": "execute_result"
    }
   ],
   "source": [
    "df.dtypes"
   ]
  },
  {
   "cell_type": "code",
   "execution_count": 4,
   "id": "bc4f49f1",
   "metadata": {},
   "outputs": [
    {
     "data": {
      "text/plain": [
       "A1     12\n",
       "A2     12\n",
       "A3      0\n",
       "A4      6\n",
       "A5      6\n",
       "A6      9\n",
       "A7      9\n",
       "A8      0\n",
       "A9      0\n",
       "A10     0\n",
       "A11     0\n",
       "A12     0\n",
       "A13     0\n",
       "A14    13\n",
       "A15     0\n",
       "A16     0\n",
       "dtype: int64"
      ]
     },
     "execution_count": 4,
     "metadata": {},
     "output_type": "execute_result"
    }
   ],
   "source": [
    "df.isna().sum()"
   ]
  },
  {
   "cell_type": "code",
   "execution_count": 5,
   "id": "b535f545",
   "metadata": {},
   "outputs": [],
   "source": [
    "# define categorical and num column lists per the given data types in the data description\n",
    "cat_cols = ['A1', 'A4', 'A5', 'A6','A7','A9', 'A10', 'A12', 'A13', 'A16']\n",
    "num_cols = ['A2', 'A3', 'A8', 'A11','A14','A15']"
   ]
  },
  {
   "cell_type": "code",
   "execution_count": 6,
   "id": "0b627d45",
   "metadata": {},
   "outputs": [
    {
     "name": "stderr",
     "output_type": "stream",
     "text": [
      "<ipython-input-6-235842a8e14e>:1: DeprecationWarning: `np.object` is a deprecated alias for the builtin `object`. To silence this warning, use `object` by itself. Doing this will not modify any behavior and is safe. \n",
      "Deprecated in NumPy 1.20; for more details and guidance: https://numpy.org/devdocs/release/1.20.0-notes.html#deprecations\n",
      "  df[cat_cols] = df[cat_cols].astype(np.object)\n"
     ]
    }
   ],
   "source": [
    "df[cat_cols] = df[cat_cols].astype(np.object)\n",
    "df[num_cols] = df[num_cols].astype(np.number)"
   ]
  },
  {
   "cell_type": "code",
   "execution_count": 7,
   "id": "d8db01b6",
   "metadata": {},
   "outputs": [
    {
     "data": {
      "text/plain": [
       "A1      object\n",
       "A2     float64\n",
       "A3     float64\n",
       "A4      object\n",
       "A5      object\n",
       "A6      object\n",
       "A7      object\n",
       "A8     float64\n",
       "A9      object\n",
       "A10     object\n",
       "A11    float64\n",
       "A12     object\n",
       "A13     object\n",
       "A14    float64\n",
       "A15    float64\n",
       "A16     object\n",
       "dtype: object"
      ]
     },
     "execution_count": 7,
     "metadata": {},
     "output_type": "execute_result"
    }
   ],
   "source": [
    "df.dtypes"
   ]
  },
  {
   "cell_type": "markdown",
   "id": "6d3cb3ea",
   "metadata": {},
   "source": [
    "### T3\n",
    "**T3::** 10 points: Imputing missing values."
   ]
  },
  {
   "cell_type": "code",
   "execution_count": 8,
   "id": "72d219db",
   "metadata": {},
   "outputs": [
    {
     "data": {
      "text/html": [
       "<div>\n",
       "<style scoped>\n",
       "    .dataframe tbody tr th:only-of-type {\n",
       "        vertical-align: middle;\n",
       "    }\n",
       "\n",
       "    .dataframe tbody tr th {\n",
       "        vertical-align: top;\n",
       "    }\n",
       "\n",
       "    .dataframe thead th {\n",
       "        text-align: right;\n",
       "    }\n",
       "</style>\n",
       "<table border=\"1\" class=\"dataframe\">\n",
       "  <thead>\n",
       "    <tr style=\"text-align: right;\">\n",
       "      <th></th>\n",
       "      <th>A1</th>\n",
       "      <th>A2</th>\n",
       "      <th>A3</th>\n",
       "      <th>A4</th>\n",
       "      <th>A5</th>\n",
       "      <th>A6</th>\n",
       "      <th>A7</th>\n",
       "      <th>A8</th>\n",
       "      <th>A9</th>\n",
       "      <th>A10</th>\n",
       "      <th>A11</th>\n",
       "      <th>A12</th>\n",
       "      <th>A13</th>\n",
       "      <th>A14</th>\n",
       "      <th>A15</th>\n",
       "      <th>A16</th>\n",
       "    </tr>\n",
       "  </thead>\n",
       "  <tbody>\n",
       "    <tr>\n",
       "      <th>330</th>\n",
       "      <td>b</td>\n",
       "      <td>20.42</td>\n",
       "      <td>0.0</td>\n",
       "      <td>NaN</td>\n",
       "      <td>NaN</td>\n",
       "      <td>NaN</td>\n",
       "      <td>NaN</td>\n",
       "      <td>0.0</td>\n",
       "      <td>f</td>\n",
       "      <td>f</td>\n",
       "      <td>0.0</td>\n",
       "      <td>f</td>\n",
       "      <td>p</td>\n",
       "      <td>NaN</td>\n",
       "      <td>0.0</td>\n",
       "      <td>-</td>\n",
       "    </tr>\n",
       "  </tbody>\n",
       "</table>\n",
       "</div>"
      ],
      "text/plain": [
       "    A1     A2   A3   A4   A5   A6   A7   A8 A9 A10  A11 A12 A13  A14  A15 A16\n",
       "330  b  20.42  0.0  NaN  NaN  NaN  NaN  0.0  f   f  0.0   f   p  NaN  0.0   -"
      ]
     },
     "execution_count": 8,
     "metadata": {},
     "output_type": "execute_result"
    }
   ],
   "source": [
    "df[330:331]"
   ]
  },
  {
   "cell_type": "code",
   "execution_count": 9,
   "id": "05a3e474",
   "metadata": {},
   "outputs": [
    {
     "name": "stdout",
     "output_type": "stream",
     "text": [
      "Mode for column A1 is :b\n",
      "Mode for column A4 is :u\n",
      "Mode for column A5 is :g\n",
      "Mode for column A6 is :c\n",
      "Mode for column A7 is :v\n",
      "Mode for column A9 is :t\n",
      "Mode for column A10 is :f\n",
      "Mode for column A12 is :f\n",
      "Mode for column A13 is :g\n",
      "Mode for column A16 is :-\n",
      "Median for column A2 is: 28.46\n",
      "Median for column A3 is: 2.75\n",
      "Median for column A8 is: 1.0\n",
      "Median for column A11 is: 0.0\n",
      "Median for column A14 is: 160.0\n",
      "Median for column A15 is: 5.0\n"
     ]
    }
   ],
   "source": [
    "data_imputed = df.copy()\n",
    "\n",
    "for col in cat_cols:\n",
    "    mode = data_imputed[col].mode()[0]\n",
    "    print(f'Mode for column {col} is :{mode}')\n",
    "    data_imputed[cat_cols] = data_imputed[cat_cols].fillna(mode)\n",
    "    \n",
    "for col in num_cols:\n",
    "    median = data_imputed[col].median()\n",
    "    print(f'Median for column {col} is: {median}')\n",
    "    data_imputed[num_cols] = data_imputed[num_cols].fillna(median)"
   ]
  },
  {
   "cell_type": "code",
   "execution_count": 10,
   "id": "3e7d4f8b",
   "metadata": {},
   "outputs": [
    {
     "data": {
      "text/html": [
       "<div>\n",
       "<style scoped>\n",
       "    .dataframe tbody tr th:only-of-type {\n",
       "        vertical-align: middle;\n",
       "    }\n",
       "\n",
       "    .dataframe tbody tr th {\n",
       "        vertical-align: top;\n",
       "    }\n",
       "\n",
       "    .dataframe thead th {\n",
       "        text-align: right;\n",
       "    }\n",
       "</style>\n",
       "<table border=\"1\" class=\"dataframe\">\n",
       "  <thead>\n",
       "    <tr style=\"text-align: right;\">\n",
       "      <th></th>\n",
       "      <th>A1</th>\n",
       "      <th>A2</th>\n",
       "      <th>A3</th>\n",
       "      <th>A4</th>\n",
       "      <th>A5</th>\n",
       "      <th>A6</th>\n",
       "      <th>A7</th>\n",
       "      <th>A8</th>\n",
       "      <th>A9</th>\n",
       "      <th>A10</th>\n",
       "      <th>A11</th>\n",
       "      <th>A12</th>\n",
       "      <th>A13</th>\n",
       "      <th>A14</th>\n",
       "      <th>A15</th>\n",
       "      <th>A16</th>\n",
       "    </tr>\n",
       "  </thead>\n",
       "  <tbody>\n",
       "    <tr>\n",
       "      <th>330</th>\n",
       "      <td>b</td>\n",
       "      <td>20.42</td>\n",
       "      <td>0.0</td>\n",
       "      <td>b</td>\n",
       "      <td>b</td>\n",
       "      <td>b</td>\n",
       "      <td>b</td>\n",
       "      <td>0.0</td>\n",
       "      <td>f</td>\n",
       "      <td>f</td>\n",
       "      <td>0.0</td>\n",
       "      <td>f</td>\n",
       "      <td>p</td>\n",
       "      <td>28.46</td>\n",
       "      <td>0.0</td>\n",
       "      <td>-</td>\n",
       "    </tr>\n",
       "  </tbody>\n",
       "</table>\n",
       "</div>"
      ],
      "text/plain": [
       "    A1     A2   A3 A4 A5 A6 A7   A8 A9 A10  A11 A12 A13    A14  A15 A16\n",
       "330  b  20.42  0.0  b  b  b  b  0.0  f   f  0.0   f   p  28.46  0.0   -"
      ]
     },
     "execution_count": 10,
     "metadata": {},
     "output_type": "execute_result"
    }
   ],
   "source": [
    "data_imputed[330:331]"
   ]
  },
  {
   "cell_type": "code",
   "execution_count": 11,
   "id": "7aed4a08",
   "metadata": {},
   "outputs": [
    {
     "data": {
      "text/html": [
       "<div>\n",
       "<style scoped>\n",
       "    .dataframe tbody tr th:only-of-type {\n",
       "        vertical-align: middle;\n",
       "    }\n",
       "\n",
       "    .dataframe tbody tr th {\n",
       "        vertical-align: top;\n",
       "    }\n",
       "\n",
       "    .dataframe thead th {\n",
       "        text-align: right;\n",
       "    }\n",
       "</style>\n",
       "<table border=\"1\" class=\"dataframe\">\n",
       "  <thead>\n",
       "    <tr style=\"text-align: right;\">\n",
       "      <th></th>\n",
       "      <th>A1</th>\n",
       "      <th>A2</th>\n",
       "      <th>A3</th>\n",
       "      <th>A4</th>\n",
       "      <th>A5</th>\n",
       "      <th>A6</th>\n",
       "      <th>A7</th>\n",
       "      <th>A8</th>\n",
       "      <th>A9</th>\n",
       "      <th>A10</th>\n",
       "      <th>A11</th>\n",
       "      <th>A12</th>\n",
       "      <th>A13</th>\n",
       "      <th>A14</th>\n",
       "      <th>A15</th>\n",
       "      <th>A16</th>\n",
       "    </tr>\n",
       "  </thead>\n",
       "  <tbody>\n",
       "    <tr>\n",
       "      <th>330</th>\n",
       "      <td>b</td>\n",
       "      <td>20.42</td>\n",
       "      <td>0.0</td>\n",
       "      <td>b</td>\n",
       "      <td>b</td>\n",
       "      <td>b</td>\n",
       "      <td>b</td>\n",
       "      <td>0.0</td>\n",
       "      <td>f</td>\n",
       "      <td>f</td>\n",
       "      <td>0.0</td>\n",
       "      <td>f</td>\n",
       "      <td>p</td>\n",
       "      <td>28.46</td>\n",
       "      <td>0.0</td>\n",
       "      <td>-</td>\n",
       "    </tr>\n",
       "  </tbody>\n",
       "</table>\n",
       "</div>"
      ],
      "text/plain": [
       "    A1     A2   A3 A4 A5 A6 A7   A8 A9 A10  A11 A12 A13    A14  A15 A16\n",
       "330  b  20.42  0.0  b  b  b  b  0.0  f   f  0.0   f   p  28.46  0.0   -"
      ]
     },
     "execution_count": 11,
     "metadata": {},
     "output_type": "execute_result"
    }
   ],
   "source": [
    "df = data_imputed.copy()\n",
    "df[330:331]"
   ]
  },
  {
   "cell_type": "markdown",
   "id": "608f34c7",
   "metadata": {},
   "source": [
    "#### ELiminating Redundant feature\n",
    "\n",
    "We observe that this dataset does not contain any one of the following:\n",
    "\n",
    "* ID-Like columns\n",
    "* Constant features\n",
    "* Date or time features\n",
    "\n",
    "However, we notice that columns A4 and A5 have the same value counts. This is suspicious. Perhaps these two columns contain the same information? Let's do A4 to A5 mapping and then check to see if the A4 and A5 series after the mapping are equal."
   ]
  },
  {
   "cell_type": "markdown",
   "id": "7d4131f3",
   "metadata": {},
   "source": [
    "### T2\n",
    "**T2::** Imputing missing values"
   ]
  },
  {
   "cell_type": "code",
   "execution_count": 12,
   "id": "44327f43",
   "metadata": {},
   "outputs": [
    {
     "name": "stdout",
     "output_type": "stream",
     "text": [
      "b    480\n",
      "a    210\n",
      "Name: A1, dtype: int64 \n",
      "\n",
      "u    519\n",
      "y    163\n",
      "b      6\n",
      "l      2\n",
      "Name: A4, dtype: int64 \n",
      "\n",
      "g     519\n",
      "p     163\n",
      "b       6\n",
      "gg      2\n",
      "Name: A5, dtype: int64 \n",
      "\n",
      "c     137\n",
      "q      78\n",
      "w      64\n",
      "i      59\n",
      "aa     54\n",
      "ff     53\n",
      "k      51\n",
      "cc     41\n",
      "x      38\n",
      "m      38\n",
      "d      30\n",
      "e      25\n",
      "j      10\n",
      "b       9\n",
      "r       3\n",
      "Name: A6, dtype: int64 \n",
      "\n",
      "v     399\n",
      "h     138\n",
      "bb     59\n",
      "ff     57\n",
      "b       9\n",
      "j       8\n",
      "z       8\n",
      "dd      6\n",
      "n       4\n",
      "o       2\n",
      "Name: A7, dtype: int64 \n",
      "\n",
      "t    361\n",
      "f    329\n",
      "Name: A9, dtype: int64 \n",
      "\n",
      "f    395\n",
      "t    295\n",
      "Name: A10, dtype: int64 \n",
      "\n",
      "f    374\n",
      "t    316\n",
      "Name: A12, dtype: int64 \n",
      "\n",
      "g    625\n",
      "s     57\n",
      "p      8\n",
      "Name: A13, dtype: int64 \n",
      "\n",
      "-    383\n",
      "+    307\n",
      "Name: A16, dtype: int64 \n",
      "\n"
     ]
    }
   ],
   "source": [
    "for col in cat_cols:\n",
    "    print(df[col].value_counts(),'\\n')"
   ]
  },
  {
   "cell_type": "code",
   "execution_count": 13,
   "id": "aedc53dd",
   "metadata": {},
   "outputs": [
    {
     "name": "stdout",
     "output_type": "stream",
     "text": [
      "['u' 'u' 'u' 'u' 'u' 'u' 'u' 'u' 'y' 'y']\n",
      "['u' 'u' 'u' 'u' 'u' 'u' 'u' 'u' 'y' 'y']\n"
     ]
    },
    {
     "data": {
      "text/plain": [
       "True"
      ]
     },
     "execution_count": 13,
     "metadata": {},
     "output_type": "execute_result"
    }
   ],
   "source": [
    "A4 = df['A4'].copy()\n",
    "A5 = df['A5'].copy()\n",
    "\n",
    "A5 = A5.replace({'g':'u', 'p':'y', 'gg':'l'})\n",
    "\n",
    "print(A4.head(10).values)\n",
    "print(A5.head(10).values)\n",
    "\n",
    "A4.equals(A5)"
   ]
  },
  {
   "cell_type": "code",
   "execution_count": 14,
   "id": "0121e693",
   "metadata": {},
   "outputs": [],
   "source": [
    "df = df.drop(columns='A5')"
   ]
  },
  {
   "cell_type": "code",
   "execution_count": 15,
   "id": "cce83bb1",
   "metadata": {},
   "outputs": [
    {
     "data": {
      "text/plain": [
       "Index(['A1', 'A2', 'A3', 'A4', 'A6', 'A7', 'A8', 'A9', 'A10', 'A11', 'A12',\n",
       "       'A13', 'A14', 'A15', 'A16'],\n",
       "      dtype='object')"
      ]
     },
     "execution_count": 15,
     "metadata": {},
     "output_type": "execute_result"
    }
   ],
   "source": [
    "df.columns"
   ]
  },
  {
   "cell_type": "markdown",
   "id": "27e97659",
   "metadata": {},
   "source": [
    "### T4\n",
    "**T4::** Binning numeric feature A2."
   ]
  },
  {
   "cell_type": "code",
   "execution_count": 17,
   "id": "1ef28937",
   "metadata": {},
   "outputs": [],
   "source": [
    "df_cat = df.copy()"
   ]
  },
  {
   "cell_type": "code",
   "execution_count": 19,
   "id": "887559b4",
   "metadata": {},
   "outputs": [],
   "source": [
    "df_cat['A2'] = pd.qcut(df_cat['A2'],q=3,labels=['low','medium','high'])"
   ]
  },
  {
   "cell_type": "code",
   "execution_count": 32,
   "id": "6710d6ab",
   "metadata": {},
   "outputs": [
    {
     "data": {
      "text/plain": [
       "medium    231\n",
       "low       230\n",
       "high      229\n",
       "Name: A2, dtype: int64"
      ]
     },
     "execution_count": 32,
     "metadata": {},
     "output_type": "execute_result"
    }
   ],
   "source": [
    "df_cat['A2'].value_counts()"
   ]
  },
  {
   "cell_type": "code",
   "execution_count": 33,
   "id": "d4a64381",
   "metadata": {},
   "outputs": [
    {
     "data": {
      "text/html": [
       "<div>\n",
       "<style scoped>\n",
       "    .dataframe tbody tr th:only-of-type {\n",
       "        vertical-align: middle;\n",
       "    }\n",
       "\n",
       "    .dataframe tbody tr th {\n",
       "        vertical-align: top;\n",
       "    }\n",
       "\n",
       "    .dataframe thead th {\n",
       "        text-align: right;\n",
       "    }\n",
       "</style>\n",
       "<table border=\"1\" class=\"dataframe\">\n",
       "  <thead>\n",
       "    <tr style=\"text-align: right;\">\n",
       "      <th></th>\n",
       "      <th>A1</th>\n",
       "      <th>A2</th>\n",
       "      <th>A3</th>\n",
       "      <th>A4</th>\n",
       "      <th>A6</th>\n",
       "      <th>A7</th>\n",
       "      <th>A8</th>\n",
       "      <th>A9</th>\n",
       "      <th>A10</th>\n",
       "      <th>A11</th>\n",
       "      <th>A12</th>\n",
       "      <th>A13</th>\n",
       "      <th>A14</th>\n",
       "      <th>A15</th>\n",
       "      <th>A16</th>\n",
       "    </tr>\n",
       "  </thead>\n",
       "  <tbody>\n",
       "    <tr>\n",
       "      <th>214</th>\n",
       "      <td>b</td>\n",
       "      <td>medium</td>\n",
       "      <td>2.710</td>\n",
       "      <td>y</td>\n",
       "      <td>cc</td>\n",
       "      <td>v</td>\n",
       "      <td>5.250</td>\n",
       "      <td>t</td>\n",
       "      <td>t</td>\n",
       "      <td>1.0</td>\n",
       "      <td>f</td>\n",
       "      <td>g</td>\n",
       "      <td>211.0</td>\n",
       "      <td>0.0</td>\n",
       "      <td>+</td>\n",
       "    </tr>\n",
       "    <tr>\n",
       "      <th>545</th>\n",
       "      <td>b</td>\n",
       "      <td>high</td>\n",
       "      <td>11.000</td>\n",
       "      <td>y</td>\n",
       "      <td>d</td>\n",
       "      <td>v</td>\n",
       "      <td>1.500</td>\n",
       "      <td>t</td>\n",
       "      <td>f</td>\n",
       "      <td>0.0</td>\n",
       "      <td>f</td>\n",
       "      <td>s</td>\n",
       "      <td>0.0</td>\n",
       "      <td>0.0</td>\n",
       "      <td>-</td>\n",
       "    </tr>\n",
       "    <tr>\n",
       "      <th>436</th>\n",
       "      <td>b</td>\n",
       "      <td>low</td>\n",
       "      <td>0.585</td>\n",
       "      <td>u</td>\n",
       "      <td>ff</td>\n",
       "      <td>ff</td>\n",
       "      <td>0.000</td>\n",
       "      <td>f</td>\n",
       "      <td>t</td>\n",
       "      <td>3.0</td>\n",
       "      <td>f</td>\n",
       "      <td>g</td>\n",
       "      <td>350.0</td>\n",
       "      <td>769.0</td>\n",
       "      <td>-</td>\n",
       "    </tr>\n",
       "    <tr>\n",
       "      <th>201</th>\n",
       "      <td>a</td>\n",
       "      <td>high</td>\n",
       "      <td>1.000</td>\n",
       "      <td>u</td>\n",
       "      <td>i</td>\n",
       "      <td>bb</td>\n",
       "      <td>2.250</td>\n",
       "      <td>t</td>\n",
       "      <td>f</td>\n",
       "      <td>0.0</td>\n",
       "      <td>t</td>\n",
       "      <td>g</td>\n",
       "      <td>0.0</td>\n",
       "      <td>300.0</td>\n",
       "      <td>+</td>\n",
       "    </tr>\n",
       "    <tr>\n",
       "      <th>372</th>\n",
       "      <td>a</td>\n",
       "      <td>high</td>\n",
       "      <td>4.585</td>\n",
       "      <td>u</td>\n",
       "      <td>k</td>\n",
       "      <td>h</td>\n",
       "      <td>1.000</td>\n",
       "      <td>f</td>\n",
       "      <td>f</td>\n",
       "      <td>0.0</td>\n",
       "      <td>t</td>\n",
       "      <td>s</td>\n",
       "      <td>240.0</td>\n",
       "      <td>0.0</td>\n",
       "      <td>-</td>\n",
       "    </tr>\n",
       "    <tr>\n",
       "      <th>191</th>\n",
       "      <td>b</td>\n",
       "      <td>high</td>\n",
       "      <td>0.205</td>\n",
       "      <td>u</td>\n",
       "      <td>i</td>\n",
       "      <td>h</td>\n",
       "      <td>5.125</td>\n",
       "      <td>t</td>\n",
       "      <td>f</td>\n",
       "      <td>0.0</td>\n",
       "      <td>f</td>\n",
       "      <td>g</td>\n",
       "      <td>400.0</td>\n",
       "      <td>0.0</td>\n",
       "      <td>+</td>\n",
       "    </tr>\n",
       "  </tbody>\n",
       "</table>\n",
       "</div>"
      ],
      "text/plain": [
       "    A1      A2      A3 A4  A6  A7     A8 A9 A10  A11 A12 A13    A14    A15 A16\n",
       "214  b  medium   2.710  y  cc   v  5.250  t   t  1.0   f   g  211.0    0.0   +\n",
       "545  b    high  11.000  y   d   v  1.500  t   f  0.0   f   s    0.0    0.0   -\n",
       "436  b     low   0.585  u  ff  ff  0.000  f   t  3.0   f   g  350.0  769.0   -\n",
       "201  a    high   1.000  u   i  bb  2.250  t   f  0.0   t   g    0.0  300.0   +\n",
       "372  a    high   4.585  u   k   h  1.000  f   f  0.0   t   s  240.0    0.0   -\n",
       "191  b    high   0.205  u   i   h  5.125  t   f  0.0   f   g  400.0    0.0   +"
      ]
     },
     "execution_count": 33,
     "metadata": {},
     "output_type": "execute_result"
    }
   ],
   "source": [
    "df_cat.sample(n=6,random_state=11)"
   ]
  },
  {
   "cell_type": "markdown",
   "id": "61caf970",
   "metadata": {},
   "source": [
    "Now, our `column A2` is categorical."
   ]
  },
  {
   "cell_type": "markdown",
   "id": "05ef99b3",
   "metadata": {},
   "source": [
    "### T5\n",
    "T5:: Integer-encoding of feature A2."
   ]
  },
  {
   "cell_type": "code",
   "execution_count": null,
   "id": "8b7322fa",
   "metadata": {},
   "outputs": [],
   "source": []
  }
 ],
 "metadata": {
  "kernelspec": {
   "display_name": "Python 3",
   "language": "python",
   "name": "python3"
  },
  "language_info": {
   "codemirror_mode": {
    "name": "ipython",
    "version": 3
   },
   "file_extension": ".py",
   "mimetype": "text/x-python",
   "name": "python",
   "nbconvert_exporter": "python",
   "pygments_lexer": "ipython3",
   "version": "3.8.8"
  }
 },
 "nbformat": 4,
 "nbformat_minor": 5
}
